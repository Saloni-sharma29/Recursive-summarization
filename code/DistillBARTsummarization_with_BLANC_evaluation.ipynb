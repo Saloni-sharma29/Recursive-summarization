{
  "nbformat": 4,
  "nbformat_minor": 0,
  "metadata": {
    "colab": {
      "provenance": [],
      "collapsed_sections": [
        "flBNsq8NfY0Y",
        "WKVut2I8ffeG",
        "kubwFM6MX7rR",
        "5amp-uoNezvV",
        "b3MjwOU4-vWZ",
        "ZPluCcpKgGTi"
      ]
    },
    "kernelspec": {
      "name": "python3",
      "display_name": "Python 3"
    },
    "language_info": {
      "name": "python"
    },
    "widgets": {
      "application/vnd.jupyter.widget-state+json": {
        "00b303c0c0664f248281f1115a6aefd2": {
          "model_module": "@jupyter-widgets/controls",
          "model_name": "HBoxModel",
          "model_module_version": "1.5.0",
          "state": {
            "_dom_classes": [],
            "_model_module": "@jupyter-widgets/controls",
            "_model_module_version": "1.5.0",
            "_model_name": "HBoxModel",
            "_view_count": null,
            "_view_module": "@jupyter-widgets/controls",
            "_view_module_version": "1.5.0",
            "_view_name": "HBoxView",
            "box_style": "",
            "children": [
              "IPY_MODEL_4994f307bc784ca8b9724a825899a79f",
              "IPY_MODEL_aa0db590fbf142aaaf5613949039db94",
              "IPY_MODEL_6bd276a4030942679941f782e4f2f044"
            ],
            "layout": "IPY_MODEL_534156ba4e4b446c854e55b80c7b290e"
          }
        },
        "4994f307bc784ca8b9724a825899a79f": {
          "model_module": "@jupyter-widgets/controls",
          "model_name": "HTMLModel",
          "model_module_version": "1.5.0",
          "state": {
            "_dom_classes": [],
            "_model_module": "@jupyter-widgets/controls",
            "_model_module_version": "1.5.0",
            "_model_name": "HTMLModel",
            "_view_count": null,
            "_view_module": "@jupyter-widgets/controls",
            "_view_module_version": "1.5.0",
            "_view_name": "HTMLView",
            "description": "",
            "description_tooltip": null,
            "layout": "IPY_MODEL_531c02039b8c4954a8603513d7fbf43d",
            "placeholder": "​",
            "style": "IPY_MODEL_08e91c23e53c4658a3c9959b3cfcd468",
            "value": "tokenizer_config.json: 100%"
          }
        },
        "aa0db590fbf142aaaf5613949039db94": {
          "model_module": "@jupyter-widgets/controls",
          "model_name": "FloatProgressModel",
          "model_module_version": "1.5.0",
          "state": {
            "_dom_classes": [],
            "_model_module": "@jupyter-widgets/controls",
            "_model_module_version": "1.5.0",
            "_model_name": "FloatProgressModel",
            "_view_count": null,
            "_view_module": "@jupyter-widgets/controls",
            "_view_module_version": "1.5.0",
            "_view_name": "ProgressView",
            "bar_style": "success",
            "description": "",
            "description_tooltip": null,
            "layout": "IPY_MODEL_255e7f31abad4404b919cf34e4625a75",
            "max": 26,
            "min": 0,
            "orientation": "horizontal",
            "style": "IPY_MODEL_574f1b14745f4cbf8aebea55a2e1f708",
            "value": 26
          }
        },
        "6bd276a4030942679941f782e4f2f044": {
          "model_module": "@jupyter-widgets/controls",
          "model_name": "HTMLModel",
          "model_module_version": "1.5.0",
          "state": {
            "_dom_classes": [],
            "_model_module": "@jupyter-widgets/controls",
            "_model_module_version": "1.5.0",
            "_model_name": "HTMLModel",
            "_view_count": null,
            "_view_module": "@jupyter-widgets/controls",
            "_view_module_version": "1.5.0",
            "_view_name": "HTMLView",
            "description": "",
            "description_tooltip": null,
            "layout": "IPY_MODEL_49915285e7bf4379ab4aea1725930e21",
            "placeholder": "​",
            "style": "IPY_MODEL_d374db55af5b49db99cec51fbbc22c1c",
            "value": " 26.0/26.0 [00:00&lt;00:00, 357B/s]"
          }
        },
        "534156ba4e4b446c854e55b80c7b290e": {
          "model_module": "@jupyter-widgets/base",
          "model_name": "LayoutModel",
          "model_module_version": "1.2.0",
          "state": {
            "_model_module": "@jupyter-widgets/base",
            "_model_module_version": "1.2.0",
            "_model_name": "LayoutModel",
            "_view_count": null,
            "_view_module": "@jupyter-widgets/base",
            "_view_module_version": "1.2.0",
            "_view_name": "LayoutView",
            "align_content": null,
            "align_items": null,
            "align_self": null,
            "border": null,
            "bottom": null,
            "display": null,
            "flex": null,
            "flex_flow": null,
            "grid_area": null,
            "grid_auto_columns": null,
            "grid_auto_flow": null,
            "grid_auto_rows": null,
            "grid_column": null,
            "grid_gap": null,
            "grid_row": null,
            "grid_template_areas": null,
            "grid_template_columns": null,
            "grid_template_rows": null,
            "height": null,
            "justify_content": null,
            "justify_items": null,
            "left": null,
            "margin": null,
            "max_height": null,
            "max_width": null,
            "min_height": null,
            "min_width": null,
            "object_fit": null,
            "object_position": null,
            "order": null,
            "overflow": null,
            "overflow_x": null,
            "overflow_y": null,
            "padding": null,
            "right": null,
            "top": null,
            "visibility": null,
            "width": null
          }
        },
        "531c02039b8c4954a8603513d7fbf43d": {
          "model_module": "@jupyter-widgets/base",
          "model_name": "LayoutModel",
          "model_module_version": "1.2.0",
          "state": {
            "_model_module": "@jupyter-widgets/base",
            "_model_module_version": "1.2.0",
            "_model_name": "LayoutModel",
            "_view_count": null,
            "_view_module": "@jupyter-widgets/base",
            "_view_module_version": "1.2.0",
            "_view_name": "LayoutView",
            "align_content": null,
            "align_items": null,
            "align_self": null,
            "border": null,
            "bottom": null,
            "display": null,
            "flex": null,
            "flex_flow": null,
            "grid_area": null,
            "grid_auto_columns": null,
            "grid_auto_flow": null,
            "grid_auto_rows": null,
            "grid_column": null,
            "grid_gap": null,
            "grid_row": null,
            "grid_template_areas": null,
            "grid_template_columns": null,
            "grid_template_rows": null,
            "height": null,
            "justify_content": null,
            "justify_items": null,
            "left": null,
            "margin": null,
            "max_height": null,
            "max_width": null,
            "min_height": null,
            "min_width": null,
            "object_fit": null,
            "object_position": null,
            "order": null,
            "overflow": null,
            "overflow_x": null,
            "overflow_y": null,
            "padding": null,
            "right": null,
            "top": null,
            "visibility": null,
            "width": null
          }
        },
        "08e91c23e53c4658a3c9959b3cfcd468": {
          "model_module": "@jupyter-widgets/controls",
          "model_name": "DescriptionStyleModel",
          "model_module_version": "1.5.0",
          "state": {
            "_model_module": "@jupyter-widgets/controls",
            "_model_module_version": "1.5.0",
            "_model_name": "DescriptionStyleModel",
            "_view_count": null,
            "_view_module": "@jupyter-widgets/base",
            "_view_module_version": "1.2.0",
            "_view_name": "StyleView",
            "description_width": ""
          }
        },
        "255e7f31abad4404b919cf34e4625a75": {
          "model_module": "@jupyter-widgets/base",
          "model_name": "LayoutModel",
          "model_module_version": "1.2.0",
          "state": {
            "_model_module": "@jupyter-widgets/base",
            "_model_module_version": "1.2.0",
            "_model_name": "LayoutModel",
            "_view_count": null,
            "_view_module": "@jupyter-widgets/base",
            "_view_module_version": "1.2.0",
            "_view_name": "LayoutView",
            "align_content": null,
            "align_items": null,
            "align_self": null,
            "border": null,
            "bottom": null,
            "display": null,
            "flex": null,
            "flex_flow": null,
            "grid_area": null,
            "grid_auto_columns": null,
            "grid_auto_flow": null,
            "grid_auto_rows": null,
            "grid_column": null,
            "grid_gap": null,
            "grid_row": null,
            "grid_template_areas": null,
            "grid_template_columns": null,
            "grid_template_rows": null,
            "height": null,
            "justify_content": null,
            "justify_items": null,
            "left": null,
            "margin": null,
            "max_height": null,
            "max_width": null,
            "min_height": null,
            "min_width": null,
            "object_fit": null,
            "object_position": null,
            "order": null,
            "overflow": null,
            "overflow_x": null,
            "overflow_y": null,
            "padding": null,
            "right": null,
            "top": null,
            "visibility": null,
            "width": null
          }
        },
        "574f1b14745f4cbf8aebea55a2e1f708": {
          "model_module": "@jupyter-widgets/controls",
          "model_name": "ProgressStyleModel",
          "model_module_version": "1.5.0",
          "state": {
            "_model_module": "@jupyter-widgets/controls",
            "_model_module_version": "1.5.0",
            "_model_name": "ProgressStyleModel",
            "_view_count": null,
            "_view_module": "@jupyter-widgets/base",
            "_view_module_version": "1.2.0",
            "_view_name": "StyleView",
            "bar_color": null,
            "description_width": ""
          }
        },
        "49915285e7bf4379ab4aea1725930e21": {
          "model_module": "@jupyter-widgets/base",
          "model_name": "LayoutModel",
          "model_module_version": "1.2.0",
          "state": {
            "_model_module": "@jupyter-widgets/base",
            "_model_module_version": "1.2.0",
            "_model_name": "LayoutModel",
            "_view_count": null,
            "_view_module": "@jupyter-widgets/base",
            "_view_module_version": "1.2.0",
            "_view_name": "LayoutView",
            "align_content": null,
            "align_items": null,
            "align_self": null,
            "border": null,
            "bottom": null,
            "display": null,
            "flex": null,
            "flex_flow": null,
            "grid_area": null,
            "grid_auto_columns": null,
            "grid_auto_flow": null,
            "grid_auto_rows": null,
            "grid_column": null,
            "grid_gap": null,
            "grid_row": null,
            "grid_template_areas": null,
            "grid_template_columns": null,
            "grid_template_rows": null,
            "height": null,
            "justify_content": null,
            "justify_items": null,
            "left": null,
            "margin": null,
            "max_height": null,
            "max_width": null,
            "min_height": null,
            "min_width": null,
            "object_fit": null,
            "object_position": null,
            "order": null,
            "overflow": null,
            "overflow_x": null,
            "overflow_y": null,
            "padding": null,
            "right": null,
            "top": null,
            "visibility": null,
            "width": null
          }
        },
        "d374db55af5b49db99cec51fbbc22c1c": {
          "model_module": "@jupyter-widgets/controls",
          "model_name": "DescriptionStyleModel",
          "model_module_version": "1.5.0",
          "state": {
            "_model_module": "@jupyter-widgets/controls",
            "_model_module_version": "1.5.0",
            "_model_name": "DescriptionStyleModel",
            "_view_count": null,
            "_view_module": "@jupyter-widgets/base",
            "_view_module_version": "1.2.0",
            "_view_name": "StyleView",
            "description_width": ""
          }
        },
        "3d19a5ee005448a29b64e9aae08597e9": {
          "model_module": "@jupyter-widgets/controls",
          "model_name": "HBoxModel",
          "model_module_version": "1.5.0",
          "state": {
            "_dom_classes": [],
            "_model_module": "@jupyter-widgets/controls",
            "_model_module_version": "1.5.0",
            "_model_name": "HBoxModel",
            "_view_count": null,
            "_view_module": "@jupyter-widgets/controls",
            "_view_module_version": "1.5.0",
            "_view_name": "HBoxView",
            "box_style": "",
            "children": [
              "IPY_MODEL_d0e9fa95831543a4b30da730a1901f8b",
              "IPY_MODEL_b4b7402f93d14b0c9a0c602d594afa87",
              "IPY_MODEL_27a8ae8ab206478aa260f45f2497efea"
            ],
            "layout": "IPY_MODEL_cb405332518a44218cccfef92dad2855"
          }
        },
        "d0e9fa95831543a4b30da730a1901f8b": {
          "model_module": "@jupyter-widgets/controls",
          "model_name": "HTMLModel",
          "model_module_version": "1.5.0",
          "state": {
            "_dom_classes": [],
            "_model_module": "@jupyter-widgets/controls",
            "_model_module_version": "1.5.0",
            "_model_name": "HTMLModel",
            "_view_count": null,
            "_view_module": "@jupyter-widgets/controls",
            "_view_module_version": "1.5.0",
            "_view_name": "HTMLView",
            "description": "",
            "description_tooltip": null,
            "layout": "IPY_MODEL_0719a50af6cc4d968b89f340bc3dc45d",
            "placeholder": "​",
            "style": "IPY_MODEL_89636d9cc8e540e08d700ade8cc87e51",
            "value": "config.json: 100%"
          }
        },
        "b4b7402f93d14b0c9a0c602d594afa87": {
          "model_module": "@jupyter-widgets/controls",
          "model_name": "FloatProgressModel",
          "model_module_version": "1.5.0",
          "state": {
            "_dom_classes": [],
            "_model_module": "@jupyter-widgets/controls",
            "_model_module_version": "1.5.0",
            "_model_name": "FloatProgressModel",
            "_view_count": null,
            "_view_module": "@jupyter-widgets/controls",
            "_view_module_version": "1.5.0",
            "_view_name": "ProgressView",
            "bar_style": "success",
            "description": "",
            "description_tooltip": null,
            "layout": "IPY_MODEL_80c0c990b5174f8299aeef7ad5578a35",
            "max": 1802,
            "min": 0,
            "orientation": "horizontal",
            "style": "IPY_MODEL_96940ef7e09043e787d3239bd177391b",
            "value": 1802
          }
        },
        "27a8ae8ab206478aa260f45f2497efea": {
          "model_module": "@jupyter-widgets/controls",
          "model_name": "HTMLModel",
          "model_module_version": "1.5.0",
          "state": {
            "_dom_classes": [],
            "_model_module": "@jupyter-widgets/controls",
            "_model_module_version": "1.5.0",
            "_model_name": "HTMLModel",
            "_view_count": null,
            "_view_module": "@jupyter-widgets/controls",
            "_view_module_version": "1.5.0",
            "_view_name": "HTMLView",
            "description": "",
            "description_tooltip": null,
            "layout": "IPY_MODEL_4c08c4534e2642989962377595705d6f",
            "placeholder": "​",
            "style": "IPY_MODEL_364d37b42b47453e99cd52bf6ba749c2",
            "value": " 1.80k/1.80k [00:00&lt;00:00, 27.6kB/s]"
          }
        },
        "cb405332518a44218cccfef92dad2855": {
          "model_module": "@jupyter-widgets/base",
          "model_name": "LayoutModel",
          "model_module_version": "1.2.0",
          "state": {
            "_model_module": "@jupyter-widgets/base",
            "_model_module_version": "1.2.0",
            "_model_name": "LayoutModel",
            "_view_count": null,
            "_view_module": "@jupyter-widgets/base",
            "_view_module_version": "1.2.0",
            "_view_name": "LayoutView",
            "align_content": null,
            "align_items": null,
            "align_self": null,
            "border": null,
            "bottom": null,
            "display": null,
            "flex": null,
            "flex_flow": null,
            "grid_area": null,
            "grid_auto_columns": null,
            "grid_auto_flow": null,
            "grid_auto_rows": null,
            "grid_column": null,
            "grid_gap": null,
            "grid_row": null,
            "grid_template_areas": null,
            "grid_template_columns": null,
            "grid_template_rows": null,
            "height": null,
            "justify_content": null,
            "justify_items": null,
            "left": null,
            "margin": null,
            "max_height": null,
            "max_width": null,
            "min_height": null,
            "min_width": null,
            "object_fit": null,
            "object_position": null,
            "order": null,
            "overflow": null,
            "overflow_x": null,
            "overflow_y": null,
            "padding": null,
            "right": null,
            "top": null,
            "visibility": null,
            "width": null
          }
        },
        "0719a50af6cc4d968b89f340bc3dc45d": {
          "model_module": "@jupyter-widgets/base",
          "model_name": "LayoutModel",
          "model_module_version": "1.2.0",
          "state": {
            "_model_module": "@jupyter-widgets/base",
            "_model_module_version": "1.2.0",
            "_model_name": "LayoutModel",
            "_view_count": null,
            "_view_module": "@jupyter-widgets/base",
            "_view_module_version": "1.2.0",
            "_view_name": "LayoutView",
            "align_content": null,
            "align_items": null,
            "align_self": null,
            "border": null,
            "bottom": null,
            "display": null,
            "flex": null,
            "flex_flow": null,
            "grid_area": null,
            "grid_auto_columns": null,
            "grid_auto_flow": null,
            "grid_auto_rows": null,
            "grid_column": null,
            "grid_gap": null,
            "grid_row": null,
            "grid_template_areas": null,
            "grid_template_columns": null,
            "grid_template_rows": null,
            "height": null,
            "justify_content": null,
            "justify_items": null,
            "left": null,
            "margin": null,
            "max_height": null,
            "max_width": null,
            "min_height": null,
            "min_width": null,
            "object_fit": null,
            "object_position": null,
            "order": null,
            "overflow": null,
            "overflow_x": null,
            "overflow_y": null,
            "padding": null,
            "right": null,
            "top": null,
            "visibility": null,
            "width": null
          }
        },
        "89636d9cc8e540e08d700ade8cc87e51": {
          "model_module": "@jupyter-widgets/controls",
          "model_name": "DescriptionStyleModel",
          "model_module_version": "1.5.0",
          "state": {
            "_model_module": "@jupyter-widgets/controls",
            "_model_module_version": "1.5.0",
            "_model_name": "DescriptionStyleModel",
            "_view_count": null,
            "_view_module": "@jupyter-widgets/base",
            "_view_module_version": "1.2.0",
            "_view_name": "StyleView",
            "description_width": ""
          }
        },
        "80c0c990b5174f8299aeef7ad5578a35": {
          "model_module": "@jupyter-widgets/base",
          "model_name": "LayoutModel",
          "model_module_version": "1.2.0",
          "state": {
            "_model_module": "@jupyter-widgets/base",
            "_model_module_version": "1.2.0",
            "_model_name": "LayoutModel",
            "_view_count": null,
            "_view_module": "@jupyter-widgets/base",
            "_view_module_version": "1.2.0",
            "_view_name": "LayoutView",
            "align_content": null,
            "align_items": null,
            "align_self": null,
            "border": null,
            "bottom": null,
            "display": null,
            "flex": null,
            "flex_flow": null,
            "grid_area": null,
            "grid_auto_columns": null,
            "grid_auto_flow": null,
            "grid_auto_rows": null,
            "grid_column": null,
            "grid_gap": null,
            "grid_row": null,
            "grid_template_areas": null,
            "grid_template_columns": null,
            "grid_template_rows": null,
            "height": null,
            "justify_content": null,
            "justify_items": null,
            "left": null,
            "margin": null,
            "max_height": null,
            "max_width": null,
            "min_height": null,
            "min_width": null,
            "object_fit": null,
            "object_position": null,
            "order": null,
            "overflow": null,
            "overflow_x": null,
            "overflow_y": null,
            "padding": null,
            "right": null,
            "top": null,
            "visibility": null,
            "width": null
          }
        },
        "96940ef7e09043e787d3239bd177391b": {
          "model_module": "@jupyter-widgets/controls",
          "model_name": "ProgressStyleModel",
          "model_module_version": "1.5.0",
          "state": {
            "_model_module": "@jupyter-widgets/controls",
            "_model_module_version": "1.5.0",
            "_model_name": "ProgressStyleModel",
            "_view_count": null,
            "_view_module": "@jupyter-widgets/base",
            "_view_module_version": "1.2.0",
            "_view_name": "StyleView",
            "bar_color": null,
            "description_width": ""
          }
        },
        "4c08c4534e2642989962377595705d6f": {
          "model_module": "@jupyter-widgets/base",
          "model_name": "LayoutModel",
          "model_module_version": "1.2.0",
          "state": {
            "_model_module": "@jupyter-widgets/base",
            "_model_module_version": "1.2.0",
            "_model_name": "LayoutModel",
            "_view_count": null,
            "_view_module": "@jupyter-widgets/base",
            "_view_module_version": "1.2.0",
            "_view_name": "LayoutView",
            "align_content": null,
            "align_items": null,
            "align_self": null,
            "border": null,
            "bottom": null,
            "display": null,
            "flex": null,
            "flex_flow": null,
            "grid_area": null,
            "grid_auto_columns": null,
            "grid_auto_flow": null,
            "grid_auto_rows": null,
            "grid_column": null,
            "grid_gap": null,
            "grid_row": null,
            "grid_template_areas": null,
            "grid_template_columns": null,
            "grid_template_rows": null,
            "height": null,
            "justify_content": null,
            "justify_items": null,
            "left": null,
            "margin": null,
            "max_height": null,
            "max_width": null,
            "min_height": null,
            "min_width": null,
            "object_fit": null,
            "object_position": null,
            "order": null,
            "overflow": null,
            "overflow_x": null,
            "overflow_y": null,
            "padding": null,
            "right": null,
            "top": null,
            "visibility": null,
            "width": null
          }
        },
        "364d37b42b47453e99cd52bf6ba749c2": {
          "model_module": "@jupyter-widgets/controls",
          "model_name": "DescriptionStyleModel",
          "model_module_version": "1.5.0",
          "state": {
            "_model_module": "@jupyter-widgets/controls",
            "_model_module_version": "1.5.0",
            "_model_name": "DescriptionStyleModel",
            "_view_count": null,
            "_view_module": "@jupyter-widgets/base",
            "_view_module_version": "1.2.0",
            "_view_name": "StyleView",
            "description_width": ""
          }
        },
        "6e5c660801da4f1287392c9b5e63af2d": {
          "model_module": "@jupyter-widgets/controls",
          "model_name": "HBoxModel",
          "model_module_version": "1.5.0",
          "state": {
            "_dom_classes": [],
            "_model_module": "@jupyter-widgets/controls",
            "_model_module_version": "1.5.0",
            "_model_name": "HBoxModel",
            "_view_count": null,
            "_view_module": "@jupyter-widgets/controls",
            "_view_module_version": "1.5.0",
            "_view_name": "HBoxView",
            "box_style": "",
            "children": [
              "IPY_MODEL_8f8b0fff96534699810762a2a37971a6",
              "IPY_MODEL_e5ad3130def64f8086d09d1f1d908146",
              "IPY_MODEL_a0326a57bf09409fa2300c7a043b9dfa"
            ],
            "layout": "IPY_MODEL_a3e503dbdd3e445e8266a10af426929f"
          }
        },
        "8f8b0fff96534699810762a2a37971a6": {
          "model_module": "@jupyter-widgets/controls",
          "model_name": "HTMLModel",
          "model_module_version": "1.5.0",
          "state": {
            "_dom_classes": [],
            "_model_module": "@jupyter-widgets/controls",
            "_model_module_version": "1.5.0",
            "_model_name": "HTMLModel",
            "_view_count": null,
            "_view_module": "@jupyter-widgets/controls",
            "_view_module_version": "1.5.0",
            "_view_name": "HTMLView",
            "description": "",
            "description_tooltip": null,
            "layout": "IPY_MODEL_82b62339d5ea41a394760374a233cd10",
            "placeholder": "​",
            "style": "IPY_MODEL_091a60432ca14e48954cb5e7b6ac22cb",
            "value": "vocab.json: 100%"
          }
        },
        "e5ad3130def64f8086d09d1f1d908146": {
          "model_module": "@jupyter-widgets/controls",
          "model_name": "FloatProgressModel",
          "model_module_version": "1.5.0",
          "state": {
            "_dom_classes": [],
            "_model_module": "@jupyter-widgets/controls",
            "_model_module_version": "1.5.0",
            "_model_name": "FloatProgressModel",
            "_view_count": null,
            "_view_module": "@jupyter-widgets/controls",
            "_view_module_version": "1.5.0",
            "_view_name": "ProgressView",
            "bar_style": "success",
            "description": "",
            "description_tooltip": null,
            "layout": "IPY_MODEL_2f0c63e24d524b61862ed7b9807102fd",
            "max": 898822,
            "min": 0,
            "orientation": "horizontal",
            "style": "IPY_MODEL_32325f1350f54b9eae2c47817d30dbcc",
            "value": 898822
          }
        },
        "a0326a57bf09409fa2300c7a043b9dfa": {
          "model_module": "@jupyter-widgets/controls",
          "model_name": "HTMLModel",
          "model_module_version": "1.5.0",
          "state": {
            "_dom_classes": [],
            "_model_module": "@jupyter-widgets/controls",
            "_model_module_version": "1.5.0",
            "_model_name": "HTMLModel",
            "_view_count": null,
            "_view_module": "@jupyter-widgets/controls",
            "_view_module_version": "1.5.0",
            "_view_name": "HTMLView",
            "description": "",
            "description_tooltip": null,
            "layout": "IPY_MODEL_373e5252d75c47058cd7f6e175c7b26f",
            "placeholder": "​",
            "style": "IPY_MODEL_658eb05ab93241898059387c512d3279",
            "value": " 899k/899k [00:00&lt;00:00, 10.7MB/s]"
          }
        },
        "a3e503dbdd3e445e8266a10af426929f": {
          "model_module": "@jupyter-widgets/base",
          "model_name": "LayoutModel",
          "model_module_version": "1.2.0",
          "state": {
            "_model_module": "@jupyter-widgets/base",
            "_model_module_version": "1.2.0",
            "_model_name": "LayoutModel",
            "_view_count": null,
            "_view_module": "@jupyter-widgets/base",
            "_view_module_version": "1.2.0",
            "_view_name": "LayoutView",
            "align_content": null,
            "align_items": null,
            "align_self": null,
            "border": null,
            "bottom": null,
            "display": null,
            "flex": null,
            "flex_flow": null,
            "grid_area": null,
            "grid_auto_columns": null,
            "grid_auto_flow": null,
            "grid_auto_rows": null,
            "grid_column": null,
            "grid_gap": null,
            "grid_row": null,
            "grid_template_areas": null,
            "grid_template_columns": null,
            "grid_template_rows": null,
            "height": null,
            "justify_content": null,
            "justify_items": null,
            "left": null,
            "margin": null,
            "max_height": null,
            "max_width": null,
            "min_height": null,
            "min_width": null,
            "object_fit": null,
            "object_position": null,
            "order": null,
            "overflow": null,
            "overflow_x": null,
            "overflow_y": null,
            "padding": null,
            "right": null,
            "top": null,
            "visibility": null,
            "width": null
          }
        },
        "82b62339d5ea41a394760374a233cd10": {
          "model_module": "@jupyter-widgets/base",
          "model_name": "LayoutModel",
          "model_module_version": "1.2.0",
          "state": {
            "_model_module": "@jupyter-widgets/base",
            "_model_module_version": "1.2.0",
            "_model_name": "LayoutModel",
            "_view_count": null,
            "_view_module": "@jupyter-widgets/base",
            "_view_module_version": "1.2.0",
            "_view_name": "LayoutView",
            "align_content": null,
            "align_items": null,
            "align_self": null,
            "border": null,
            "bottom": null,
            "display": null,
            "flex": null,
            "flex_flow": null,
            "grid_area": null,
            "grid_auto_columns": null,
            "grid_auto_flow": null,
            "grid_auto_rows": null,
            "grid_column": null,
            "grid_gap": null,
            "grid_row": null,
            "grid_template_areas": null,
            "grid_template_columns": null,
            "grid_template_rows": null,
            "height": null,
            "justify_content": null,
            "justify_items": null,
            "left": null,
            "margin": null,
            "max_height": null,
            "max_width": null,
            "min_height": null,
            "min_width": null,
            "object_fit": null,
            "object_position": null,
            "order": null,
            "overflow": null,
            "overflow_x": null,
            "overflow_y": null,
            "padding": null,
            "right": null,
            "top": null,
            "visibility": null,
            "width": null
          }
        },
        "091a60432ca14e48954cb5e7b6ac22cb": {
          "model_module": "@jupyter-widgets/controls",
          "model_name": "DescriptionStyleModel",
          "model_module_version": "1.5.0",
          "state": {
            "_model_module": "@jupyter-widgets/controls",
            "_model_module_version": "1.5.0",
            "_model_name": "DescriptionStyleModel",
            "_view_count": null,
            "_view_module": "@jupyter-widgets/base",
            "_view_module_version": "1.2.0",
            "_view_name": "StyleView",
            "description_width": ""
          }
        },
        "2f0c63e24d524b61862ed7b9807102fd": {
          "model_module": "@jupyter-widgets/base",
          "model_name": "LayoutModel",
          "model_module_version": "1.2.0",
          "state": {
            "_model_module": "@jupyter-widgets/base",
            "_model_module_version": "1.2.0",
            "_model_name": "LayoutModel",
            "_view_count": null,
            "_view_module": "@jupyter-widgets/base",
            "_view_module_version": "1.2.0",
            "_view_name": "LayoutView",
            "align_content": null,
            "align_items": null,
            "align_self": null,
            "border": null,
            "bottom": null,
            "display": null,
            "flex": null,
            "flex_flow": null,
            "grid_area": null,
            "grid_auto_columns": null,
            "grid_auto_flow": null,
            "grid_auto_rows": null,
            "grid_column": null,
            "grid_gap": null,
            "grid_row": null,
            "grid_template_areas": null,
            "grid_template_columns": null,
            "grid_template_rows": null,
            "height": null,
            "justify_content": null,
            "justify_items": null,
            "left": null,
            "margin": null,
            "max_height": null,
            "max_width": null,
            "min_height": null,
            "min_width": null,
            "object_fit": null,
            "object_position": null,
            "order": null,
            "overflow": null,
            "overflow_x": null,
            "overflow_y": null,
            "padding": null,
            "right": null,
            "top": null,
            "visibility": null,
            "width": null
          }
        },
        "32325f1350f54b9eae2c47817d30dbcc": {
          "model_module": "@jupyter-widgets/controls",
          "model_name": "ProgressStyleModel",
          "model_module_version": "1.5.0",
          "state": {
            "_model_module": "@jupyter-widgets/controls",
            "_model_module_version": "1.5.0",
            "_model_name": "ProgressStyleModel",
            "_view_count": null,
            "_view_module": "@jupyter-widgets/base",
            "_view_module_version": "1.2.0",
            "_view_name": "StyleView",
            "bar_color": null,
            "description_width": ""
          }
        },
        "373e5252d75c47058cd7f6e175c7b26f": {
          "model_module": "@jupyter-widgets/base",
          "model_name": "LayoutModel",
          "model_module_version": "1.2.0",
          "state": {
            "_model_module": "@jupyter-widgets/base",
            "_model_module_version": "1.2.0",
            "_model_name": "LayoutModel",
            "_view_count": null,
            "_view_module": "@jupyter-widgets/base",
            "_view_module_version": "1.2.0",
            "_view_name": "LayoutView",
            "align_content": null,
            "align_items": null,
            "align_self": null,
            "border": null,
            "bottom": null,
            "display": null,
            "flex": null,
            "flex_flow": null,
            "grid_area": null,
            "grid_auto_columns": null,
            "grid_auto_flow": null,
            "grid_auto_rows": null,
            "grid_column": null,
            "grid_gap": null,
            "grid_row": null,
            "grid_template_areas": null,
            "grid_template_columns": null,
            "grid_template_rows": null,
            "height": null,
            "justify_content": null,
            "justify_items": null,
            "left": null,
            "margin": null,
            "max_height": null,
            "max_width": null,
            "min_height": null,
            "min_width": null,
            "object_fit": null,
            "object_position": null,
            "order": null,
            "overflow": null,
            "overflow_x": null,
            "overflow_y": null,
            "padding": null,
            "right": null,
            "top": null,
            "visibility": null,
            "width": null
          }
        },
        "658eb05ab93241898059387c512d3279": {
          "model_module": "@jupyter-widgets/controls",
          "model_name": "DescriptionStyleModel",
          "model_module_version": "1.5.0",
          "state": {
            "_model_module": "@jupyter-widgets/controls",
            "_model_module_version": "1.5.0",
            "_model_name": "DescriptionStyleModel",
            "_view_count": null,
            "_view_module": "@jupyter-widgets/base",
            "_view_module_version": "1.2.0",
            "_view_name": "StyleView",
            "description_width": ""
          }
        },
        "e01137788e264948b1a15cf8206df326": {
          "model_module": "@jupyter-widgets/controls",
          "model_name": "HBoxModel",
          "model_module_version": "1.5.0",
          "state": {
            "_dom_classes": [],
            "_model_module": "@jupyter-widgets/controls",
            "_model_module_version": "1.5.0",
            "_model_name": "HBoxModel",
            "_view_count": null,
            "_view_module": "@jupyter-widgets/controls",
            "_view_module_version": "1.5.0",
            "_view_name": "HBoxView",
            "box_style": "",
            "children": [
              "IPY_MODEL_34d61c44549448ca8b7e62be857b88f6",
              "IPY_MODEL_b642051a142a48479e1a6c7dc76eccbe",
              "IPY_MODEL_4bb59ac8f8b14eb4b3ef1264b1f6e357"
            ],
            "layout": "IPY_MODEL_6c8aa60d42c942b788768983d937f307"
          }
        },
        "34d61c44549448ca8b7e62be857b88f6": {
          "model_module": "@jupyter-widgets/controls",
          "model_name": "HTMLModel",
          "model_module_version": "1.5.0",
          "state": {
            "_dom_classes": [],
            "_model_module": "@jupyter-widgets/controls",
            "_model_module_version": "1.5.0",
            "_model_name": "HTMLModel",
            "_view_count": null,
            "_view_module": "@jupyter-widgets/controls",
            "_view_module_version": "1.5.0",
            "_view_name": "HTMLView",
            "description": "",
            "description_tooltip": null,
            "layout": "IPY_MODEL_ee4117719574426286975ff5c559e2aa",
            "placeholder": "​",
            "style": "IPY_MODEL_7cb699f6ee6e4c558b8f22144d81c0bc",
            "value": "merges.txt: 100%"
          }
        },
        "b642051a142a48479e1a6c7dc76eccbe": {
          "model_module": "@jupyter-widgets/controls",
          "model_name": "FloatProgressModel",
          "model_module_version": "1.5.0",
          "state": {
            "_dom_classes": [],
            "_model_module": "@jupyter-widgets/controls",
            "_model_module_version": "1.5.0",
            "_model_name": "FloatProgressModel",
            "_view_count": null,
            "_view_module": "@jupyter-widgets/controls",
            "_view_module_version": "1.5.0",
            "_view_name": "ProgressView",
            "bar_style": "success",
            "description": "",
            "description_tooltip": null,
            "layout": "IPY_MODEL_09b204ef0d4a41b1ae09fcda1025e103",
            "max": 456318,
            "min": 0,
            "orientation": "horizontal",
            "style": "IPY_MODEL_dce944ca9fd746469fb1d72650afb443",
            "value": 456318
          }
        },
        "4bb59ac8f8b14eb4b3ef1264b1f6e357": {
          "model_module": "@jupyter-widgets/controls",
          "model_name": "HTMLModel",
          "model_module_version": "1.5.0",
          "state": {
            "_dom_classes": [],
            "_model_module": "@jupyter-widgets/controls",
            "_model_module_version": "1.5.0",
            "_model_name": "HTMLModel",
            "_view_count": null,
            "_view_module": "@jupyter-widgets/controls",
            "_view_module_version": "1.5.0",
            "_view_name": "HTMLView",
            "description": "",
            "description_tooltip": null,
            "layout": "IPY_MODEL_1fbe235f8b6a41cfa111c467de44b691",
            "placeholder": "​",
            "style": "IPY_MODEL_2c7da59a9f2649d8b09f11411cd51da6",
            "value": " 456k/456k [00:00&lt;00:00, 7.08MB/s]"
          }
        },
        "6c8aa60d42c942b788768983d937f307": {
          "model_module": "@jupyter-widgets/base",
          "model_name": "LayoutModel",
          "model_module_version": "1.2.0",
          "state": {
            "_model_module": "@jupyter-widgets/base",
            "_model_module_version": "1.2.0",
            "_model_name": "LayoutModel",
            "_view_count": null,
            "_view_module": "@jupyter-widgets/base",
            "_view_module_version": "1.2.0",
            "_view_name": "LayoutView",
            "align_content": null,
            "align_items": null,
            "align_self": null,
            "border": null,
            "bottom": null,
            "display": null,
            "flex": null,
            "flex_flow": null,
            "grid_area": null,
            "grid_auto_columns": null,
            "grid_auto_flow": null,
            "grid_auto_rows": null,
            "grid_column": null,
            "grid_gap": null,
            "grid_row": null,
            "grid_template_areas": null,
            "grid_template_columns": null,
            "grid_template_rows": null,
            "height": null,
            "justify_content": null,
            "justify_items": null,
            "left": null,
            "margin": null,
            "max_height": null,
            "max_width": null,
            "min_height": null,
            "min_width": null,
            "object_fit": null,
            "object_position": null,
            "order": null,
            "overflow": null,
            "overflow_x": null,
            "overflow_y": null,
            "padding": null,
            "right": null,
            "top": null,
            "visibility": null,
            "width": null
          }
        },
        "ee4117719574426286975ff5c559e2aa": {
          "model_module": "@jupyter-widgets/base",
          "model_name": "LayoutModel",
          "model_module_version": "1.2.0",
          "state": {
            "_model_module": "@jupyter-widgets/base",
            "_model_module_version": "1.2.0",
            "_model_name": "LayoutModel",
            "_view_count": null,
            "_view_module": "@jupyter-widgets/base",
            "_view_module_version": "1.2.0",
            "_view_name": "LayoutView",
            "align_content": null,
            "align_items": null,
            "align_self": null,
            "border": null,
            "bottom": null,
            "display": null,
            "flex": null,
            "flex_flow": null,
            "grid_area": null,
            "grid_auto_columns": null,
            "grid_auto_flow": null,
            "grid_auto_rows": null,
            "grid_column": null,
            "grid_gap": null,
            "grid_row": null,
            "grid_template_areas": null,
            "grid_template_columns": null,
            "grid_template_rows": null,
            "height": null,
            "justify_content": null,
            "justify_items": null,
            "left": null,
            "margin": null,
            "max_height": null,
            "max_width": null,
            "min_height": null,
            "min_width": null,
            "object_fit": null,
            "object_position": null,
            "order": null,
            "overflow": null,
            "overflow_x": null,
            "overflow_y": null,
            "padding": null,
            "right": null,
            "top": null,
            "visibility": null,
            "width": null
          }
        },
        "7cb699f6ee6e4c558b8f22144d81c0bc": {
          "model_module": "@jupyter-widgets/controls",
          "model_name": "DescriptionStyleModel",
          "model_module_version": "1.5.0",
          "state": {
            "_model_module": "@jupyter-widgets/controls",
            "_model_module_version": "1.5.0",
            "_model_name": "DescriptionStyleModel",
            "_view_count": null,
            "_view_module": "@jupyter-widgets/base",
            "_view_module_version": "1.2.0",
            "_view_name": "StyleView",
            "description_width": ""
          }
        },
        "09b204ef0d4a41b1ae09fcda1025e103": {
          "model_module": "@jupyter-widgets/base",
          "model_name": "LayoutModel",
          "model_module_version": "1.2.0",
          "state": {
            "_model_module": "@jupyter-widgets/base",
            "_model_module_version": "1.2.0",
            "_model_name": "LayoutModel",
            "_view_count": null,
            "_view_module": "@jupyter-widgets/base",
            "_view_module_version": "1.2.0",
            "_view_name": "LayoutView",
            "align_content": null,
            "align_items": null,
            "align_self": null,
            "border": null,
            "bottom": null,
            "display": null,
            "flex": null,
            "flex_flow": null,
            "grid_area": null,
            "grid_auto_columns": null,
            "grid_auto_flow": null,
            "grid_auto_rows": null,
            "grid_column": null,
            "grid_gap": null,
            "grid_row": null,
            "grid_template_areas": null,
            "grid_template_columns": null,
            "grid_template_rows": null,
            "height": null,
            "justify_content": null,
            "justify_items": null,
            "left": null,
            "margin": null,
            "max_height": null,
            "max_width": null,
            "min_height": null,
            "min_width": null,
            "object_fit": null,
            "object_position": null,
            "order": null,
            "overflow": null,
            "overflow_x": null,
            "overflow_y": null,
            "padding": null,
            "right": null,
            "top": null,
            "visibility": null,
            "width": null
          }
        },
        "dce944ca9fd746469fb1d72650afb443": {
          "model_module": "@jupyter-widgets/controls",
          "model_name": "ProgressStyleModel",
          "model_module_version": "1.5.0",
          "state": {
            "_model_module": "@jupyter-widgets/controls",
            "_model_module_version": "1.5.0",
            "_model_name": "ProgressStyleModel",
            "_view_count": null,
            "_view_module": "@jupyter-widgets/base",
            "_view_module_version": "1.2.0",
            "_view_name": "StyleView",
            "bar_color": null,
            "description_width": ""
          }
        },
        "1fbe235f8b6a41cfa111c467de44b691": {
          "model_module": "@jupyter-widgets/base",
          "model_name": "LayoutModel",
          "model_module_version": "1.2.0",
          "state": {
            "_model_module": "@jupyter-widgets/base",
            "_model_module_version": "1.2.0",
            "_model_name": "LayoutModel",
            "_view_count": null,
            "_view_module": "@jupyter-widgets/base",
            "_view_module_version": "1.2.0",
            "_view_name": "LayoutView",
            "align_content": null,
            "align_items": null,
            "align_self": null,
            "border": null,
            "bottom": null,
            "display": null,
            "flex": null,
            "flex_flow": null,
            "grid_area": null,
            "grid_auto_columns": null,
            "grid_auto_flow": null,
            "grid_auto_rows": null,
            "grid_column": null,
            "grid_gap": null,
            "grid_row": null,
            "grid_template_areas": null,
            "grid_template_columns": null,
            "grid_template_rows": null,
            "height": null,
            "justify_content": null,
            "justify_items": null,
            "left": null,
            "margin": null,
            "max_height": null,
            "max_width": null,
            "min_height": null,
            "min_width": null,
            "object_fit": null,
            "object_position": null,
            "order": null,
            "overflow": null,
            "overflow_x": null,
            "overflow_y": null,
            "padding": null,
            "right": null,
            "top": null,
            "visibility": null,
            "width": null
          }
        },
        "2c7da59a9f2649d8b09f11411cd51da6": {
          "model_module": "@jupyter-widgets/controls",
          "model_name": "DescriptionStyleModel",
          "model_module_version": "1.5.0",
          "state": {
            "_model_module": "@jupyter-widgets/controls",
            "_model_module_version": "1.5.0",
            "_model_name": "DescriptionStyleModel",
            "_view_count": null,
            "_view_module": "@jupyter-widgets/base",
            "_view_module_version": "1.2.0",
            "_view_name": "StyleView",
            "description_width": ""
          }
        },
        "db0e83016bcc400aa8bfdb083f7d3e44": {
          "model_module": "@jupyter-widgets/controls",
          "model_name": "HBoxModel",
          "model_module_version": "1.5.0",
          "state": {
            "_dom_classes": [],
            "_model_module": "@jupyter-widgets/controls",
            "_model_module_version": "1.5.0",
            "_model_name": "HBoxModel",
            "_view_count": null,
            "_view_module": "@jupyter-widgets/controls",
            "_view_module_version": "1.5.0",
            "_view_name": "HBoxView",
            "box_style": "",
            "children": [
              "IPY_MODEL_c89b6ffaeb70460281e696d9baddf8cd",
              "IPY_MODEL_c7bb7d41b489497695f909a5148102ac",
              "IPY_MODEL_cc062ae83ba04180a5ee2933d79cfc90"
            ],
            "layout": "IPY_MODEL_7b8359deff3b4f619e8ae9675927a984"
          }
        },
        "c89b6ffaeb70460281e696d9baddf8cd": {
          "model_module": "@jupyter-widgets/controls",
          "model_name": "HTMLModel",
          "model_module_version": "1.5.0",
          "state": {
            "_dom_classes": [],
            "_model_module": "@jupyter-widgets/controls",
            "_model_module_version": "1.5.0",
            "_model_name": "HTMLModel",
            "_view_count": null,
            "_view_module": "@jupyter-widgets/controls",
            "_view_module_version": "1.5.0",
            "_view_name": "HTMLView",
            "description": "",
            "description_tooltip": null,
            "layout": "IPY_MODEL_ca573a27b2f24ac38ec025116275a5fd",
            "placeholder": "​",
            "style": "IPY_MODEL_2a757c9455784ffd925d14e68bef0177",
            "value": "pytorch_model.bin: 100%"
          }
        },
        "c7bb7d41b489497695f909a5148102ac": {
          "model_module": "@jupyter-widgets/controls",
          "model_name": "FloatProgressModel",
          "model_module_version": "1.5.0",
          "state": {
            "_dom_classes": [],
            "_model_module": "@jupyter-widgets/controls",
            "_model_module_version": "1.5.0",
            "_model_name": "FloatProgressModel",
            "_view_count": null,
            "_view_module": "@jupyter-widgets/controls",
            "_view_module_version": "1.5.0",
            "_view_name": "ProgressView",
            "bar_style": "success",
            "description": "",
            "description_tooltip": null,
            "layout": "IPY_MODEL_5219a2652f4344da8be6ccae97836cd6",
            "max": 1222317369,
            "min": 0,
            "orientation": "horizontal",
            "style": "IPY_MODEL_e7760fd0138e4ee398b219975513db05",
            "value": 1222317369
          }
        },
        "cc062ae83ba04180a5ee2933d79cfc90": {
          "model_module": "@jupyter-widgets/controls",
          "model_name": "HTMLModel",
          "model_module_version": "1.5.0",
          "state": {
            "_dom_classes": [],
            "_model_module": "@jupyter-widgets/controls",
            "_model_module_version": "1.5.0",
            "_model_name": "HTMLModel",
            "_view_count": null,
            "_view_module": "@jupyter-widgets/controls",
            "_view_module_version": "1.5.0",
            "_view_name": "HTMLView",
            "description": "",
            "description_tooltip": null,
            "layout": "IPY_MODEL_5e775e1c9fb34eb89011ad08cc018295",
            "placeholder": "​",
            "style": "IPY_MODEL_01c2e2bbce0640d7a9e24577b8b454c7",
            "value": " 1.22G/1.22G [00:15&lt;00:00, 88.8MB/s]"
          }
        },
        "7b8359deff3b4f619e8ae9675927a984": {
          "model_module": "@jupyter-widgets/base",
          "model_name": "LayoutModel",
          "model_module_version": "1.2.0",
          "state": {
            "_model_module": "@jupyter-widgets/base",
            "_model_module_version": "1.2.0",
            "_model_name": "LayoutModel",
            "_view_count": null,
            "_view_module": "@jupyter-widgets/base",
            "_view_module_version": "1.2.0",
            "_view_name": "LayoutView",
            "align_content": null,
            "align_items": null,
            "align_self": null,
            "border": null,
            "bottom": null,
            "display": null,
            "flex": null,
            "flex_flow": null,
            "grid_area": null,
            "grid_auto_columns": null,
            "grid_auto_flow": null,
            "grid_auto_rows": null,
            "grid_column": null,
            "grid_gap": null,
            "grid_row": null,
            "grid_template_areas": null,
            "grid_template_columns": null,
            "grid_template_rows": null,
            "height": null,
            "justify_content": null,
            "justify_items": null,
            "left": null,
            "margin": null,
            "max_height": null,
            "max_width": null,
            "min_height": null,
            "min_width": null,
            "object_fit": null,
            "object_position": null,
            "order": null,
            "overflow": null,
            "overflow_x": null,
            "overflow_y": null,
            "padding": null,
            "right": null,
            "top": null,
            "visibility": null,
            "width": null
          }
        },
        "ca573a27b2f24ac38ec025116275a5fd": {
          "model_module": "@jupyter-widgets/base",
          "model_name": "LayoutModel",
          "model_module_version": "1.2.0",
          "state": {
            "_model_module": "@jupyter-widgets/base",
            "_model_module_version": "1.2.0",
            "_model_name": "LayoutModel",
            "_view_count": null,
            "_view_module": "@jupyter-widgets/base",
            "_view_module_version": "1.2.0",
            "_view_name": "LayoutView",
            "align_content": null,
            "align_items": null,
            "align_self": null,
            "border": null,
            "bottom": null,
            "display": null,
            "flex": null,
            "flex_flow": null,
            "grid_area": null,
            "grid_auto_columns": null,
            "grid_auto_flow": null,
            "grid_auto_rows": null,
            "grid_column": null,
            "grid_gap": null,
            "grid_row": null,
            "grid_template_areas": null,
            "grid_template_columns": null,
            "grid_template_rows": null,
            "height": null,
            "justify_content": null,
            "justify_items": null,
            "left": null,
            "margin": null,
            "max_height": null,
            "max_width": null,
            "min_height": null,
            "min_width": null,
            "object_fit": null,
            "object_position": null,
            "order": null,
            "overflow": null,
            "overflow_x": null,
            "overflow_y": null,
            "padding": null,
            "right": null,
            "top": null,
            "visibility": null,
            "width": null
          }
        },
        "2a757c9455784ffd925d14e68bef0177": {
          "model_module": "@jupyter-widgets/controls",
          "model_name": "DescriptionStyleModel",
          "model_module_version": "1.5.0",
          "state": {
            "_model_module": "@jupyter-widgets/controls",
            "_model_module_version": "1.5.0",
            "_model_name": "DescriptionStyleModel",
            "_view_count": null,
            "_view_module": "@jupyter-widgets/base",
            "_view_module_version": "1.2.0",
            "_view_name": "StyleView",
            "description_width": ""
          }
        },
        "5219a2652f4344da8be6ccae97836cd6": {
          "model_module": "@jupyter-widgets/base",
          "model_name": "LayoutModel",
          "model_module_version": "1.2.0",
          "state": {
            "_model_module": "@jupyter-widgets/base",
            "_model_module_version": "1.2.0",
            "_model_name": "LayoutModel",
            "_view_count": null,
            "_view_module": "@jupyter-widgets/base",
            "_view_module_version": "1.2.0",
            "_view_name": "LayoutView",
            "align_content": null,
            "align_items": null,
            "align_self": null,
            "border": null,
            "bottom": null,
            "display": null,
            "flex": null,
            "flex_flow": null,
            "grid_area": null,
            "grid_auto_columns": null,
            "grid_auto_flow": null,
            "grid_auto_rows": null,
            "grid_column": null,
            "grid_gap": null,
            "grid_row": null,
            "grid_template_areas": null,
            "grid_template_columns": null,
            "grid_template_rows": null,
            "height": null,
            "justify_content": null,
            "justify_items": null,
            "left": null,
            "margin": null,
            "max_height": null,
            "max_width": null,
            "min_height": null,
            "min_width": null,
            "object_fit": null,
            "object_position": null,
            "order": null,
            "overflow": null,
            "overflow_x": null,
            "overflow_y": null,
            "padding": null,
            "right": null,
            "top": null,
            "visibility": null,
            "width": null
          }
        },
        "e7760fd0138e4ee398b219975513db05": {
          "model_module": "@jupyter-widgets/controls",
          "model_name": "ProgressStyleModel",
          "model_module_version": "1.5.0",
          "state": {
            "_model_module": "@jupyter-widgets/controls",
            "_model_module_version": "1.5.0",
            "_model_name": "ProgressStyleModel",
            "_view_count": null,
            "_view_module": "@jupyter-widgets/base",
            "_view_module_version": "1.2.0",
            "_view_name": "StyleView",
            "bar_color": null,
            "description_width": ""
          }
        },
        "5e775e1c9fb34eb89011ad08cc018295": {
          "model_module": "@jupyter-widgets/base",
          "model_name": "LayoutModel",
          "model_module_version": "1.2.0",
          "state": {
            "_model_module": "@jupyter-widgets/base",
            "_model_module_version": "1.2.0",
            "_model_name": "LayoutModel",
            "_view_count": null,
            "_view_module": "@jupyter-widgets/base",
            "_view_module_version": "1.2.0",
            "_view_name": "LayoutView",
            "align_content": null,
            "align_items": null,
            "align_self": null,
            "border": null,
            "bottom": null,
            "display": null,
            "flex": null,
            "flex_flow": null,
            "grid_area": null,
            "grid_auto_columns": null,
            "grid_auto_flow": null,
            "grid_auto_rows": null,
            "grid_column": null,
            "grid_gap": null,
            "grid_row": null,
            "grid_template_areas": null,
            "grid_template_columns": null,
            "grid_template_rows": null,
            "height": null,
            "justify_content": null,
            "justify_items": null,
            "left": null,
            "margin": null,
            "max_height": null,
            "max_width": null,
            "min_height": null,
            "min_width": null,
            "object_fit": null,
            "object_position": null,
            "order": null,
            "overflow": null,
            "overflow_x": null,
            "overflow_y": null,
            "padding": null,
            "right": null,
            "top": null,
            "visibility": null,
            "width": null
          }
        },
        "01c2e2bbce0640d7a9e24577b8b454c7": {
          "model_module": "@jupyter-widgets/controls",
          "model_name": "DescriptionStyleModel",
          "model_module_version": "1.5.0",
          "state": {
            "_model_module": "@jupyter-widgets/controls",
            "_model_module_version": "1.5.0",
            "_model_name": "DescriptionStyleModel",
            "_view_count": null,
            "_view_module": "@jupyter-widgets/base",
            "_view_module_version": "1.2.0",
            "_view_name": "StyleView",
            "description_width": ""
          }
        },
        "d342439bc2f44a8c8685d613344b9626": {
          "model_module": "@jupyter-widgets/controls",
          "model_name": "HBoxModel",
          "model_module_version": "1.5.0",
          "state": {
            "_dom_classes": [],
            "_model_module": "@jupyter-widgets/controls",
            "_model_module_version": "1.5.0",
            "_model_name": "HBoxModel",
            "_view_count": null,
            "_view_module": "@jupyter-widgets/controls",
            "_view_module_version": "1.5.0",
            "_view_name": "HBoxView",
            "box_style": "",
            "children": [
              "IPY_MODEL_3a07d0ef338644c4a1c0d0b967013e0f",
              "IPY_MODEL_d2db0f8e761c42d185375e75a0a32fc9",
              "IPY_MODEL_75ad6b9d219b4d3da980478e90f80f7a"
            ],
            "layout": "IPY_MODEL_f25a4b14f9664837b4d7acf7084107f0"
          }
        },
        "3a07d0ef338644c4a1c0d0b967013e0f": {
          "model_module": "@jupyter-widgets/controls",
          "model_name": "HTMLModel",
          "model_module_version": "1.5.0",
          "state": {
            "_dom_classes": [],
            "_model_module": "@jupyter-widgets/controls",
            "_model_module_version": "1.5.0",
            "_model_name": "HTMLModel",
            "_view_count": null,
            "_view_module": "@jupyter-widgets/controls",
            "_view_module_version": "1.5.0",
            "_view_name": "HTMLView",
            "description": "",
            "description_tooltip": null,
            "layout": "IPY_MODEL_ab1804e444cb44edaf7a7d710edb8dd4",
            "placeholder": "​",
            "style": "IPY_MODEL_4130730b136040c9a52cb5efcece95ce",
            "value": "tokenizer_config.json: 100%"
          }
        },
        "d2db0f8e761c42d185375e75a0a32fc9": {
          "model_module": "@jupyter-widgets/controls",
          "model_name": "FloatProgressModel",
          "model_module_version": "1.5.0",
          "state": {
            "_dom_classes": [],
            "_model_module": "@jupyter-widgets/controls",
            "_model_module_version": "1.5.0",
            "_model_name": "FloatProgressModel",
            "_view_count": null,
            "_view_module": "@jupyter-widgets/controls",
            "_view_module_version": "1.5.0",
            "_view_name": "ProgressView",
            "bar_style": "success",
            "description": "",
            "description_tooltip": null,
            "layout": "IPY_MODEL_047342234df94a15b0b88e2635959148",
            "max": 48,
            "min": 0,
            "orientation": "horizontal",
            "style": "IPY_MODEL_341da75ee55b4307ba6377f57e9358b5",
            "value": 48
          }
        },
        "75ad6b9d219b4d3da980478e90f80f7a": {
          "model_module": "@jupyter-widgets/controls",
          "model_name": "HTMLModel",
          "model_module_version": "1.5.0",
          "state": {
            "_dom_classes": [],
            "_model_module": "@jupyter-widgets/controls",
            "_model_module_version": "1.5.0",
            "_model_name": "HTMLModel",
            "_view_count": null,
            "_view_module": "@jupyter-widgets/controls",
            "_view_module_version": "1.5.0",
            "_view_name": "HTMLView",
            "description": "",
            "description_tooltip": null,
            "layout": "IPY_MODEL_5e11e35d5ce649ad9c990cd38a144208",
            "placeholder": "​",
            "style": "IPY_MODEL_5307c5bd5dc34f80a39699b97d31b90b",
            "value": " 48.0/48.0 [00:00&lt;00:00, 2.57kB/s]"
          }
        },
        "f25a4b14f9664837b4d7acf7084107f0": {
          "model_module": "@jupyter-widgets/base",
          "model_name": "LayoutModel",
          "model_module_version": "1.2.0",
          "state": {
            "_model_module": "@jupyter-widgets/base",
            "_model_module_version": "1.2.0",
            "_model_name": "LayoutModel",
            "_view_count": null,
            "_view_module": "@jupyter-widgets/base",
            "_view_module_version": "1.2.0",
            "_view_name": "LayoutView",
            "align_content": null,
            "align_items": null,
            "align_self": null,
            "border": null,
            "bottom": null,
            "display": null,
            "flex": null,
            "flex_flow": null,
            "grid_area": null,
            "grid_auto_columns": null,
            "grid_auto_flow": null,
            "grid_auto_rows": null,
            "grid_column": null,
            "grid_gap": null,
            "grid_row": null,
            "grid_template_areas": null,
            "grid_template_columns": null,
            "grid_template_rows": null,
            "height": null,
            "justify_content": null,
            "justify_items": null,
            "left": null,
            "margin": null,
            "max_height": null,
            "max_width": null,
            "min_height": null,
            "min_width": null,
            "object_fit": null,
            "object_position": null,
            "order": null,
            "overflow": null,
            "overflow_x": null,
            "overflow_y": null,
            "padding": null,
            "right": null,
            "top": null,
            "visibility": null,
            "width": null
          }
        },
        "ab1804e444cb44edaf7a7d710edb8dd4": {
          "model_module": "@jupyter-widgets/base",
          "model_name": "LayoutModel",
          "model_module_version": "1.2.0",
          "state": {
            "_model_module": "@jupyter-widgets/base",
            "_model_module_version": "1.2.0",
            "_model_name": "LayoutModel",
            "_view_count": null,
            "_view_module": "@jupyter-widgets/base",
            "_view_module_version": "1.2.0",
            "_view_name": "LayoutView",
            "align_content": null,
            "align_items": null,
            "align_self": null,
            "border": null,
            "bottom": null,
            "display": null,
            "flex": null,
            "flex_flow": null,
            "grid_area": null,
            "grid_auto_columns": null,
            "grid_auto_flow": null,
            "grid_auto_rows": null,
            "grid_column": null,
            "grid_gap": null,
            "grid_row": null,
            "grid_template_areas": null,
            "grid_template_columns": null,
            "grid_template_rows": null,
            "height": null,
            "justify_content": null,
            "justify_items": null,
            "left": null,
            "margin": null,
            "max_height": null,
            "max_width": null,
            "min_height": null,
            "min_width": null,
            "object_fit": null,
            "object_position": null,
            "order": null,
            "overflow": null,
            "overflow_x": null,
            "overflow_y": null,
            "padding": null,
            "right": null,
            "top": null,
            "visibility": null,
            "width": null
          }
        },
        "4130730b136040c9a52cb5efcece95ce": {
          "model_module": "@jupyter-widgets/controls",
          "model_name": "DescriptionStyleModel",
          "model_module_version": "1.5.0",
          "state": {
            "_model_module": "@jupyter-widgets/controls",
            "_model_module_version": "1.5.0",
            "_model_name": "DescriptionStyleModel",
            "_view_count": null,
            "_view_module": "@jupyter-widgets/base",
            "_view_module_version": "1.2.0",
            "_view_name": "StyleView",
            "description_width": ""
          }
        },
        "047342234df94a15b0b88e2635959148": {
          "model_module": "@jupyter-widgets/base",
          "model_name": "LayoutModel",
          "model_module_version": "1.2.0",
          "state": {
            "_model_module": "@jupyter-widgets/base",
            "_model_module_version": "1.2.0",
            "_model_name": "LayoutModel",
            "_view_count": null,
            "_view_module": "@jupyter-widgets/base",
            "_view_module_version": "1.2.0",
            "_view_name": "LayoutView",
            "align_content": null,
            "align_items": null,
            "align_self": null,
            "border": null,
            "bottom": null,
            "display": null,
            "flex": null,
            "flex_flow": null,
            "grid_area": null,
            "grid_auto_columns": null,
            "grid_auto_flow": null,
            "grid_auto_rows": null,
            "grid_column": null,
            "grid_gap": null,
            "grid_row": null,
            "grid_template_areas": null,
            "grid_template_columns": null,
            "grid_template_rows": null,
            "height": null,
            "justify_content": null,
            "justify_items": null,
            "left": null,
            "margin": null,
            "max_height": null,
            "max_width": null,
            "min_height": null,
            "min_width": null,
            "object_fit": null,
            "object_position": null,
            "order": null,
            "overflow": null,
            "overflow_x": null,
            "overflow_y": null,
            "padding": null,
            "right": null,
            "top": null,
            "visibility": null,
            "width": null
          }
        },
        "341da75ee55b4307ba6377f57e9358b5": {
          "model_module": "@jupyter-widgets/controls",
          "model_name": "ProgressStyleModel",
          "model_module_version": "1.5.0",
          "state": {
            "_model_module": "@jupyter-widgets/controls",
            "_model_module_version": "1.5.0",
            "_model_name": "ProgressStyleModel",
            "_view_count": null,
            "_view_module": "@jupyter-widgets/base",
            "_view_module_version": "1.2.0",
            "_view_name": "StyleView",
            "bar_color": null,
            "description_width": ""
          }
        },
        "5e11e35d5ce649ad9c990cd38a144208": {
          "model_module": "@jupyter-widgets/base",
          "model_name": "LayoutModel",
          "model_module_version": "1.2.0",
          "state": {
            "_model_module": "@jupyter-widgets/base",
            "_model_module_version": "1.2.0",
            "_model_name": "LayoutModel",
            "_view_count": null,
            "_view_module": "@jupyter-widgets/base",
            "_view_module_version": "1.2.0",
            "_view_name": "LayoutView",
            "align_content": null,
            "align_items": null,
            "align_self": null,
            "border": null,
            "bottom": null,
            "display": null,
            "flex": null,
            "flex_flow": null,
            "grid_area": null,
            "grid_auto_columns": null,
            "grid_auto_flow": null,
            "grid_auto_rows": null,
            "grid_column": null,
            "grid_gap": null,
            "grid_row": null,
            "grid_template_areas": null,
            "grid_template_columns": null,
            "grid_template_rows": null,
            "height": null,
            "justify_content": null,
            "justify_items": null,
            "left": null,
            "margin": null,
            "max_height": null,
            "max_width": null,
            "min_height": null,
            "min_width": null,
            "object_fit": null,
            "object_position": null,
            "order": null,
            "overflow": null,
            "overflow_x": null,
            "overflow_y": null,
            "padding": null,
            "right": null,
            "top": null,
            "visibility": null,
            "width": null
          }
        },
        "5307c5bd5dc34f80a39699b97d31b90b": {
          "model_module": "@jupyter-widgets/controls",
          "model_name": "DescriptionStyleModel",
          "model_module_version": "1.5.0",
          "state": {
            "_model_module": "@jupyter-widgets/controls",
            "_model_module_version": "1.5.0",
            "_model_name": "DescriptionStyleModel",
            "_view_count": null,
            "_view_module": "@jupyter-widgets/base",
            "_view_module_version": "1.2.0",
            "_view_name": "StyleView",
            "description_width": ""
          }
        },
        "baa12554dc364d8293c9793cced1ebc0": {
          "model_module": "@jupyter-widgets/controls",
          "model_name": "HBoxModel",
          "model_module_version": "1.5.0",
          "state": {
            "_dom_classes": [],
            "_model_module": "@jupyter-widgets/controls",
            "_model_module_version": "1.5.0",
            "_model_name": "HBoxModel",
            "_view_count": null,
            "_view_module": "@jupyter-widgets/controls",
            "_view_module_version": "1.5.0",
            "_view_name": "HBoxView",
            "box_style": "",
            "children": [
              "IPY_MODEL_045ea6cbe4c447919db5f611b40a8d9d",
              "IPY_MODEL_43d61f6d57664a74b881948369560b92",
              "IPY_MODEL_5705bd16485045b7802b5eacb8defd55"
            ],
            "layout": "IPY_MODEL_91d16e4c3e404291bdfbf14f43d6ded5"
          }
        },
        "045ea6cbe4c447919db5f611b40a8d9d": {
          "model_module": "@jupyter-widgets/controls",
          "model_name": "HTMLModel",
          "model_module_version": "1.5.0",
          "state": {
            "_dom_classes": [],
            "_model_module": "@jupyter-widgets/controls",
            "_model_module_version": "1.5.0",
            "_model_name": "HTMLModel",
            "_view_count": null,
            "_view_module": "@jupyter-widgets/controls",
            "_view_module_version": "1.5.0",
            "_view_name": "HTMLView",
            "description": "",
            "description_tooltip": null,
            "layout": "IPY_MODEL_3a2834a9e93241c58b936841f08ad78c",
            "placeholder": "​",
            "style": "IPY_MODEL_089c494eed6b441c874c70aa69bb1898",
            "value": "vocab.txt: 100%"
          }
        },
        "43d61f6d57664a74b881948369560b92": {
          "model_module": "@jupyter-widgets/controls",
          "model_name": "FloatProgressModel",
          "model_module_version": "1.5.0",
          "state": {
            "_dom_classes": [],
            "_model_module": "@jupyter-widgets/controls",
            "_model_module_version": "1.5.0",
            "_model_name": "FloatProgressModel",
            "_view_count": null,
            "_view_module": "@jupyter-widgets/controls",
            "_view_module_version": "1.5.0",
            "_view_name": "ProgressView",
            "bar_style": "success",
            "description": "",
            "description_tooltip": null,
            "layout": "IPY_MODEL_65f23cb313434737ba4a1e343f660e8a",
            "max": 231508,
            "min": 0,
            "orientation": "horizontal",
            "style": "IPY_MODEL_2eca529b7f1c493fb9d7819342a52133",
            "value": 231508
          }
        },
        "5705bd16485045b7802b5eacb8defd55": {
          "model_module": "@jupyter-widgets/controls",
          "model_name": "HTMLModel",
          "model_module_version": "1.5.0",
          "state": {
            "_dom_classes": [],
            "_model_module": "@jupyter-widgets/controls",
            "_model_module_version": "1.5.0",
            "_model_name": "HTMLModel",
            "_view_count": null,
            "_view_module": "@jupyter-widgets/controls",
            "_view_module_version": "1.5.0",
            "_view_name": "HTMLView",
            "description": "",
            "description_tooltip": null,
            "layout": "IPY_MODEL_9b94119e70704ae8a47632ad2a78e585",
            "placeholder": "​",
            "style": "IPY_MODEL_c70a6730383f4261bd1f0b4a4a0dd3b3",
            "value": " 232k/232k [00:00&lt;00:00, 3.89MB/s]"
          }
        },
        "91d16e4c3e404291bdfbf14f43d6ded5": {
          "model_module": "@jupyter-widgets/base",
          "model_name": "LayoutModel",
          "model_module_version": "1.2.0",
          "state": {
            "_model_module": "@jupyter-widgets/base",
            "_model_module_version": "1.2.0",
            "_model_name": "LayoutModel",
            "_view_count": null,
            "_view_module": "@jupyter-widgets/base",
            "_view_module_version": "1.2.0",
            "_view_name": "LayoutView",
            "align_content": null,
            "align_items": null,
            "align_self": null,
            "border": null,
            "bottom": null,
            "display": null,
            "flex": null,
            "flex_flow": null,
            "grid_area": null,
            "grid_auto_columns": null,
            "grid_auto_flow": null,
            "grid_auto_rows": null,
            "grid_column": null,
            "grid_gap": null,
            "grid_row": null,
            "grid_template_areas": null,
            "grid_template_columns": null,
            "grid_template_rows": null,
            "height": null,
            "justify_content": null,
            "justify_items": null,
            "left": null,
            "margin": null,
            "max_height": null,
            "max_width": null,
            "min_height": null,
            "min_width": null,
            "object_fit": null,
            "object_position": null,
            "order": null,
            "overflow": null,
            "overflow_x": null,
            "overflow_y": null,
            "padding": null,
            "right": null,
            "top": null,
            "visibility": null,
            "width": null
          }
        },
        "3a2834a9e93241c58b936841f08ad78c": {
          "model_module": "@jupyter-widgets/base",
          "model_name": "LayoutModel",
          "model_module_version": "1.2.0",
          "state": {
            "_model_module": "@jupyter-widgets/base",
            "_model_module_version": "1.2.0",
            "_model_name": "LayoutModel",
            "_view_count": null,
            "_view_module": "@jupyter-widgets/base",
            "_view_module_version": "1.2.0",
            "_view_name": "LayoutView",
            "align_content": null,
            "align_items": null,
            "align_self": null,
            "border": null,
            "bottom": null,
            "display": null,
            "flex": null,
            "flex_flow": null,
            "grid_area": null,
            "grid_auto_columns": null,
            "grid_auto_flow": null,
            "grid_auto_rows": null,
            "grid_column": null,
            "grid_gap": null,
            "grid_row": null,
            "grid_template_areas": null,
            "grid_template_columns": null,
            "grid_template_rows": null,
            "height": null,
            "justify_content": null,
            "justify_items": null,
            "left": null,
            "margin": null,
            "max_height": null,
            "max_width": null,
            "min_height": null,
            "min_width": null,
            "object_fit": null,
            "object_position": null,
            "order": null,
            "overflow": null,
            "overflow_x": null,
            "overflow_y": null,
            "padding": null,
            "right": null,
            "top": null,
            "visibility": null,
            "width": null
          }
        },
        "089c494eed6b441c874c70aa69bb1898": {
          "model_module": "@jupyter-widgets/controls",
          "model_name": "DescriptionStyleModel",
          "model_module_version": "1.5.0",
          "state": {
            "_model_module": "@jupyter-widgets/controls",
            "_model_module_version": "1.5.0",
            "_model_name": "DescriptionStyleModel",
            "_view_count": null,
            "_view_module": "@jupyter-widgets/base",
            "_view_module_version": "1.2.0",
            "_view_name": "StyleView",
            "description_width": ""
          }
        },
        "65f23cb313434737ba4a1e343f660e8a": {
          "model_module": "@jupyter-widgets/base",
          "model_name": "LayoutModel",
          "model_module_version": "1.2.0",
          "state": {
            "_model_module": "@jupyter-widgets/base",
            "_model_module_version": "1.2.0",
            "_model_name": "LayoutModel",
            "_view_count": null,
            "_view_module": "@jupyter-widgets/base",
            "_view_module_version": "1.2.0",
            "_view_name": "LayoutView",
            "align_content": null,
            "align_items": null,
            "align_self": null,
            "border": null,
            "bottom": null,
            "display": null,
            "flex": null,
            "flex_flow": null,
            "grid_area": null,
            "grid_auto_columns": null,
            "grid_auto_flow": null,
            "grid_auto_rows": null,
            "grid_column": null,
            "grid_gap": null,
            "grid_row": null,
            "grid_template_areas": null,
            "grid_template_columns": null,
            "grid_template_rows": null,
            "height": null,
            "justify_content": null,
            "justify_items": null,
            "left": null,
            "margin": null,
            "max_height": null,
            "max_width": null,
            "min_height": null,
            "min_width": null,
            "object_fit": null,
            "object_position": null,
            "order": null,
            "overflow": null,
            "overflow_x": null,
            "overflow_y": null,
            "padding": null,
            "right": null,
            "top": null,
            "visibility": null,
            "width": null
          }
        },
        "2eca529b7f1c493fb9d7819342a52133": {
          "model_module": "@jupyter-widgets/controls",
          "model_name": "ProgressStyleModel",
          "model_module_version": "1.5.0",
          "state": {
            "_model_module": "@jupyter-widgets/controls",
            "_model_module_version": "1.5.0",
            "_model_name": "ProgressStyleModel",
            "_view_count": null,
            "_view_module": "@jupyter-widgets/base",
            "_view_module_version": "1.2.0",
            "_view_name": "StyleView",
            "bar_color": null,
            "description_width": ""
          }
        },
        "9b94119e70704ae8a47632ad2a78e585": {
          "model_module": "@jupyter-widgets/base",
          "model_name": "LayoutModel",
          "model_module_version": "1.2.0",
          "state": {
            "_model_module": "@jupyter-widgets/base",
            "_model_module_version": "1.2.0",
            "_model_name": "LayoutModel",
            "_view_count": null,
            "_view_module": "@jupyter-widgets/base",
            "_view_module_version": "1.2.0",
            "_view_name": "LayoutView",
            "align_content": null,
            "align_items": null,
            "align_self": null,
            "border": null,
            "bottom": null,
            "display": null,
            "flex": null,
            "flex_flow": null,
            "grid_area": null,
            "grid_auto_columns": null,
            "grid_auto_flow": null,
            "grid_auto_rows": null,
            "grid_column": null,
            "grid_gap": null,
            "grid_row": null,
            "grid_template_areas": null,
            "grid_template_columns": null,
            "grid_template_rows": null,
            "height": null,
            "justify_content": null,
            "justify_items": null,
            "left": null,
            "margin": null,
            "max_height": null,
            "max_width": null,
            "min_height": null,
            "min_width": null,
            "object_fit": null,
            "object_position": null,
            "order": null,
            "overflow": null,
            "overflow_x": null,
            "overflow_y": null,
            "padding": null,
            "right": null,
            "top": null,
            "visibility": null,
            "width": null
          }
        },
        "c70a6730383f4261bd1f0b4a4a0dd3b3": {
          "model_module": "@jupyter-widgets/controls",
          "model_name": "DescriptionStyleModel",
          "model_module_version": "1.5.0",
          "state": {
            "_model_module": "@jupyter-widgets/controls",
            "_model_module_version": "1.5.0",
            "_model_name": "DescriptionStyleModel",
            "_view_count": null,
            "_view_module": "@jupyter-widgets/base",
            "_view_module_version": "1.2.0",
            "_view_name": "StyleView",
            "description_width": ""
          }
        },
        "23de9451ae65445987edd26d1b985c99": {
          "model_module": "@jupyter-widgets/controls",
          "model_name": "HBoxModel",
          "model_module_version": "1.5.0",
          "state": {
            "_dom_classes": [],
            "_model_module": "@jupyter-widgets/controls",
            "_model_module_version": "1.5.0",
            "_model_name": "HBoxModel",
            "_view_count": null,
            "_view_module": "@jupyter-widgets/controls",
            "_view_module_version": "1.5.0",
            "_view_name": "HBoxView",
            "box_style": "",
            "children": [
              "IPY_MODEL_52af2233a7c24a4ebf7e8032312e12b3",
              "IPY_MODEL_c20316b97bc146abb8c0b7f8f2e1f372",
              "IPY_MODEL_9a52a54ac4954deeafb9b733b2b74772"
            ],
            "layout": "IPY_MODEL_ba99b7482fed4f7f8731e649fa73bb1b"
          }
        },
        "52af2233a7c24a4ebf7e8032312e12b3": {
          "model_module": "@jupyter-widgets/controls",
          "model_name": "HTMLModel",
          "model_module_version": "1.5.0",
          "state": {
            "_dom_classes": [],
            "_model_module": "@jupyter-widgets/controls",
            "_model_module_version": "1.5.0",
            "_model_name": "HTMLModel",
            "_view_count": null,
            "_view_module": "@jupyter-widgets/controls",
            "_view_module_version": "1.5.0",
            "_view_name": "HTMLView",
            "description": "",
            "description_tooltip": null,
            "layout": "IPY_MODEL_a0d198793f08420a822fd3b07ae0bcdd",
            "placeholder": "​",
            "style": "IPY_MODEL_7b94f401230b4b5d949569856e1fa466",
            "value": "tokenizer.json: 100%"
          }
        },
        "c20316b97bc146abb8c0b7f8f2e1f372": {
          "model_module": "@jupyter-widgets/controls",
          "model_name": "FloatProgressModel",
          "model_module_version": "1.5.0",
          "state": {
            "_dom_classes": [],
            "_model_module": "@jupyter-widgets/controls",
            "_model_module_version": "1.5.0",
            "_model_name": "FloatProgressModel",
            "_view_count": null,
            "_view_module": "@jupyter-widgets/controls",
            "_view_module_version": "1.5.0",
            "_view_name": "ProgressView",
            "bar_style": "success",
            "description": "",
            "description_tooltip": null,
            "layout": "IPY_MODEL_8f607759ba264ea6b24ce1e2806f6424",
            "max": 466062,
            "min": 0,
            "orientation": "horizontal",
            "style": "IPY_MODEL_fa370d2bb4e446db9103d05f4590de49",
            "value": 466062
          }
        },
        "9a52a54ac4954deeafb9b733b2b74772": {
          "model_module": "@jupyter-widgets/controls",
          "model_name": "HTMLModel",
          "model_module_version": "1.5.0",
          "state": {
            "_dom_classes": [],
            "_model_module": "@jupyter-widgets/controls",
            "_model_module_version": "1.5.0",
            "_model_name": "HTMLModel",
            "_view_count": null,
            "_view_module": "@jupyter-widgets/controls",
            "_view_module_version": "1.5.0",
            "_view_name": "HTMLView",
            "description": "",
            "description_tooltip": null,
            "layout": "IPY_MODEL_39a7e03536c643b4838f629a83889d68",
            "placeholder": "​",
            "style": "IPY_MODEL_f579c1d557f847a698062e6e2e58974c",
            "value": " 466k/466k [00:00&lt;00:00, 3.40MB/s]"
          }
        },
        "ba99b7482fed4f7f8731e649fa73bb1b": {
          "model_module": "@jupyter-widgets/base",
          "model_name": "LayoutModel",
          "model_module_version": "1.2.0",
          "state": {
            "_model_module": "@jupyter-widgets/base",
            "_model_module_version": "1.2.0",
            "_model_name": "LayoutModel",
            "_view_count": null,
            "_view_module": "@jupyter-widgets/base",
            "_view_module_version": "1.2.0",
            "_view_name": "LayoutView",
            "align_content": null,
            "align_items": null,
            "align_self": null,
            "border": null,
            "bottom": null,
            "display": null,
            "flex": null,
            "flex_flow": null,
            "grid_area": null,
            "grid_auto_columns": null,
            "grid_auto_flow": null,
            "grid_auto_rows": null,
            "grid_column": null,
            "grid_gap": null,
            "grid_row": null,
            "grid_template_areas": null,
            "grid_template_columns": null,
            "grid_template_rows": null,
            "height": null,
            "justify_content": null,
            "justify_items": null,
            "left": null,
            "margin": null,
            "max_height": null,
            "max_width": null,
            "min_height": null,
            "min_width": null,
            "object_fit": null,
            "object_position": null,
            "order": null,
            "overflow": null,
            "overflow_x": null,
            "overflow_y": null,
            "padding": null,
            "right": null,
            "top": null,
            "visibility": null,
            "width": null
          }
        },
        "a0d198793f08420a822fd3b07ae0bcdd": {
          "model_module": "@jupyter-widgets/base",
          "model_name": "LayoutModel",
          "model_module_version": "1.2.0",
          "state": {
            "_model_module": "@jupyter-widgets/base",
            "_model_module_version": "1.2.0",
            "_model_name": "LayoutModel",
            "_view_count": null,
            "_view_module": "@jupyter-widgets/base",
            "_view_module_version": "1.2.0",
            "_view_name": "LayoutView",
            "align_content": null,
            "align_items": null,
            "align_self": null,
            "border": null,
            "bottom": null,
            "display": null,
            "flex": null,
            "flex_flow": null,
            "grid_area": null,
            "grid_auto_columns": null,
            "grid_auto_flow": null,
            "grid_auto_rows": null,
            "grid_column": null,
            "grid_gap": null,
            "grid_row": null,
            "grid_template_areas": null,
            "grid_template_columns": null,
            "grid_template_rows": null,
            "height": null,
            "justify_content": null,
            "justify_items": null,
            "left": null,
            "margin": null,
            "max_height": null,
            "max_width": null,
            "min_height": null,
            "min_width": null,
            "object_fit": null,
            "object_position": null,
            "order": null,
            "overflow": null,
            "overflow_x": null,
            "overflow_y": null,
            "padding": null,
            "right": null,
            "top": null,
            "visibility": null,
            "width": null
          }
        },
        "7b94f401230b4b5d949569856e1fa466": {
          "model_module": "@jupyter-widgets/controls",
          "model_name": "DescriptionStyleModel",
          "model_module_version": "1.5.0",
          "state": {
            "_model_module": "@jupyter-widgets/controls",
            "_model_module_version": "1.5.0",
            "_model_name": "DescriptionStyleModel",
            "_view_count": null,
            "_view_module": "@jupyter-widgets/base",
            "_view_module_version": "1.2.0",
            "_view_name": "StyleView",
            "description_width": ""
          }
        },
        "8f607759ba264ea6b24ce1e2806f6424": {
          "model_module": "@jupyter-widgets/base",
          "model_name": "LayoutModel",
          "model_module_version": "1.2.0",
          "state": {
            "_model_module": "@jupyter-widgets/base",
            "_model_module_version": "1.2.0",
            "_model_name": "LayoutModel",
            "_view_count": null,
            "_view_module": "@jupyter-widgets/base",
            "_view_module_version": "1.2.0",
            "_view_name": "LayoutView",
            "align_content": null,
            "align_items": null,
            "align_self": null,
            "border": null,
            "bottom": null,
            "display": null,
            "flex": null,
            "flex_flow": null,
            "grid_area": null,
            "grid_auto_columns": null,
            "grid_auto_flow": null,
            "grid_auto_rows": null,
            "grid_column": null,
            "grid_gap": null,
            "grid_row": null,
            "grid_template_areas": null,
            "grid_template_columns": null,
            "grid_template_rows": null,
            "height": null,
            "justify_content": null,
            "justify_items": null,
            "left": null,
            "margin": null,
            "max_height": null,
            "max_width": null,
            "min_height": null,
            "min_width": null,
            "object_fit": null,
            "object_position": null,
            "order": null,
            "overflow": null,
            "overflow_x": null,
            "overflow_y": null,
            "padding": null,
            "right": null,
            "top": null,
            "visibility": null,
            "width": null
          }
        },
        "fa370d2bb4e446db9103d05f4590de49": {
          "model_module": "@jupyter-widgets/controls",
          "model_name": "ProgressStyleModel",
          "model_module_version": "1.5.0",
          "state": {
            "_model_module": "@jupyter-widgets/controls",
            "_model_module_version": "1.5.0",
            "_model_name": "ProgressStyleModel",
            "_view_count": null,
            "_view_module": "@jupyter-widgets/base",
            "_view_module_version": "1.2.0",
            "_view_name": "StyleView",
            "bar_color": null,
            "description_width": ""
          }
        },
        "39a7e03536c643b4838f629a83889d68": {
          "model_module": "@jupyter-widgets/base",
          "model_name": "LayoutModel",
          "model_module_version": "1.2.0",
          "state": {
            "_model_module": "@jupyter-widgets/base",
            "_model_module_version": "1.2.0",
            "_model_name": "LayoutModel",
            "_view_count": null,
            "_view_module": "@jupyter-widgets/base",
            "_view_module_version": "1.2.0",
            "_view_name": "LayoutView",
            "align_content": null,
            "align_items": null,
            "align_self": null,
            "border": null,
            "bottom": null,
            "display": null,
            "flex": null,
            "flex_flow": null,
            "grid_area": null,
            "grid_auto_columns": null,
            "grid_auto_flow": null,
            "grid_auto_rows": null,
            "grid_column": null,
            "grid_gap": null,
            "grid_row": null,
            "grid_template_areas": null,
            "grid_template_columns": null,
            "grid_template_rows": null,
            "height": null,
            "justify_content": null,
            "justify_items": null,
            "left": null,
            "margin": null,
            "max_height": null,
            "max_width": null,
            "min_height": null,
            "min_width": null,
            "object_fit": null,
            "object_position": null,
            "order": null,
            "overflow": null,
            "overflow_x": null,
            "overflow_y": null,
            "padding": null,
            "right": null,
            "top": null,
            "visibility": null,
            "width": null
          }
        },
        "f579c1d557f847a698062e6e2e58974c": {
          "model_module": "@jupyter-widgets/controls",
          "model_name": "DescriptionStyleModel",
          "model_module_version": "1.5.0",
          "state": {
            "_model_module": "@jupyter-widgets/controls",
            "_model_module_version": "1.5.0",
            "_model_name": "DescriptionStyleModel",
            "_view_count": null,
            "_view_module": "@jupyter-widgets/base",
            "_view_module_version": "1.2.0",
            "_view_name": "StyleView",
            "description_width": ""
          }
        },
        "03071160972e4fb3b5945a2e8caa96e7": {
          "model_module": "@jupyter-widgets/controls",
          "model_name": "HBoxModel",
          "model_module_version": "1.5.0",
          "state": {
            "_dom_classes": [],
            "_model_module": "@jupyter-widgets/controls",
            "_model_module_version": "1.5.0",
            "_model_name": "HBoxModel",
            "_view_count": null,
            "_view_module": "@jupyter-widgets/controls",
            "_view_module_version": "1.5.0",
            "_view_name": "HBoxView",
            "box_style": "",
            "children": [
              "IPY_MODEL_4ed9e09cb3c740a590ccd79e2c04c88d",
              "IPY_MODEL_e86c2bbe26a74fdb88e625f4f1803e02",
              "IPY_MODEL_c2b8bf127bb14264bdddbffaf480ba84"
            ],
            "layout": "IPY_MODEL_d2f26e33cd3d4a09b320efa02911bc26"
          }
        },
        "4ed9e09cb3c740a590ccd79e2c04c88d": {
          "model_module": "@jupyter-widgets/controls",
          "model_name": "HTMLModel",
          "model_module_version": "1.5.0",
          "state": {
            "_dom_classes": [],
            "_model_module": "@jupyter-widgets/controls",
            "_model_module_version": "1.5.0",
            "_model_name": "HTMLModel",
            "_view_count": null,
            "_view_module": "@jupyter-widgets/controls",
            "_view_module_version": "1.5.0",
            "_view_name": "HTMLView",
            "description": "",
            "description_tooltip": null,
            "layout": "IPY_MODEL_357dc68028564a3d990e00743db2d499",
            "placeholder": "​",
            "style": "IPY_MODEL_4e0e6baf27b94e0a908954481d83bd7c",
            "value": "config.json: 100%"
          }
        },
        "e86c2bbe26a74fdb88e625f4f1803e02": {
          "model_module": "@jupyter-widgets/controls",
          "model_name": "FloatProgressModel",
          "model_module_version": "1.5.0",
          "state": {
            "_dom_classes": [],
            "_model_module": "@jupyter-widgets/controls",
            "_model_module_version": "1.5.0",
            "_model_name": "FloatProgressModel",
            "_view_count": null,
            "_view_module": "@jupyter-widgets/controls",
            "_view_module_version": "1.5.0",
            "_view_name": "ProgressView",
            "bar_style": "success",
            "description": "",
            "description_tooltip": null,
            "layout": "IPY_MODEL_1c40e06d00d2483e9388ec11fddddab7",
            "max": 570,
            "min": 0,
            "orientation": "horizontal",
            "style": "IPY_MODEL_bc0c93bc2c4644b7bcbe477ac4713d96",
            "value": 570
          }
        },
        "c2b8bf127bb14264bdddbffaf480ba84": {
          "model_module": "@jupyter-widgets/controls",
          "model_name": "HTMLModel",
          "model_module_version": "1.5.0",
          "state": {
            "_dom_classes": [],
            "_model_module": "@jupyter-widgets/controls",
            "_model_module_version": "1.5.0",
            "_model_name": "HTMLModel",
            "_view_count": null,
            "_view_module": "@jupyter-widgets/controls",
            "_view_module_version": "1.5.0",
            "_view_name": "HTMLView",
            "description": "",
            "description_tooltip": null,
            "layout": "IPY_MODEL_bfbf647ce94c4100b1c26d41f77d1a5d",
            "placeholder": "​",
            "style": "IPY_MODEL_b70b43c9456a444aaafed2a205ff8c06",
            "value": " 570/570 [00:00&lt;00:00, 18.0kB/s]"
          }
        },
        "d2f26e33cd3d4a09b320efa02911bc26": {
          "model_module": "@jupyter-widgets/base",
          "model_name": "LayoutModel",
          "model_module_version": "1.2.0",
          "state": {
            "_model_module": "@jupyter-widgets/base",
            "_model_module_version": "1.2.0",
            "_model_name": "LayoutModel",
            "_view_count": null,
            "_view_module": "@jupyter-widgets/base",
            "_view_module_version": "1.2.0",
            "_view_name": "LayoutView",
            "align_content": null,
            "align_items": null,
            "align_self": null,
            "border": null,
            "bottom": null,
            "display": null,
            "flex": null,
            "flex_flow": null,
            "grid_area": null,
            "grid_auto_columns": null,
            "grid_auto_flow": null,
            "grid_auto_rows": null,
            "grid_column": null,
            "grid_gap": null,
            "grid_row": null,
            "grid_template_areas": null,
            "grid_template_columns": null,
            "grid_template_rows": null,
            "height": null,
            "justify_content": null,
            "justify_items": null,
            "left": null,
            "margin": null,
            "max_height": null,
            "max_width": null,
            "min_height": null,
            "min_width": null,
            "object_fit": null,
            "object_position": null,
            "order": null,
            "overflow": null,
            "overflow_x": null,
            "overflow_y": null,
            "padding": null,
            "right": null,
            "top": null,
            "visibility": null,
            "width": null
          }
        },
        "357dc68028564a3d990e00743db2d499": {
          "model_module": "@jupyter-widgets/base",
          "model_name": "LayoutModel",
          "model_module_version": "1.2.0",
          "state": {
            "_model_module": "@jupyter-widgets/base",
            "_model_module_version": "1.2.0",
            "_model_name": "LayoutModel",
            "_view_count": null,
            "_view_module": "@jupyter-widgets/base",
            "_view_module_version": "1.2.0",
            "_view_name": "LayoutView",
            "align_content": null,
            "align_items": null,
            "align_self": null,
            "border": null,
            "bottom": null,
            "display": null,
            "flex": null,
            "flex_flow": null,
            "grid_area": null,
            "grid_auto_columns": null,
            "grid_auto_flow": null,
            "grid_auto_rows": null,
            "grid_column": null,
            "grid_gap": null,
            "grid_row": null,
            "grid_template_areas": null,
            "grid_template_columns": null,
            "grid_template_rows": null,
            "height": null,
            "justify_content": null,
            "justify_items": null,
            "left": null,
            "margin": null,
            "max_height": null,
            "max_width": null,
            "min_height": null,
            "min_width": null,
            "object_fit": null,
            "object_position": null,
            "order": null,
            "overflow": null,
            "overflow_x": null,
            "overflow_y": null,
            "padding": null,
            "right": null,
            "top": null,
            "visibility": null,
            "width": null
          }
        },
        "4e0e6baf27b94e0a908954481d83bd7c": {
          "model_module": "@jupyter-widgets/controls",
          "model_name": "DescriptionStyleModel",
          "model_module_version": "1.5.0",
          "state": {
            "_model_module": "@jupyter-widgets/controls",
            "_model_module_version": "1.5.0",
            "_model_name": "DescriptionStyleModel",
            "_view_count": null,
            "_view_module": "@jupyter-widgets/base",
            "_view_module_version": "1.2.0",
            "_view_name": "StyleView",
            "description_width": ""
          }
        },
        "1c40e06d00d2483e9388ec11fddddab7": {
          "model_module": "@jupyter-widgets/base",
          "model_name": "LayoutModel",
          "model_module_version": "1.2.0",
          "state": {
            "_model_module": "@jupyter-widgets/base",
            "_model_module_version": "1.2.0",
            "_model_name": "LayoutModel",
            "_view_count": null,
            "_view_module": "@jupyter-widgets/base",
            "_view_module_version": "1.2.0",
            "_view_name": "LayoutView",
            "align_content": null,
            "align_items": null,
            "align_self": null,
            "border": null,
            "bottom": null,
            "display": null,
            "flex": null,
            "flex_flow": null,
            "grid_area": null,
            "grid_auto_columns": null,
            "grid_auto_flow": null,
            "grid_auto_rows": null,
            "grid_column": null,
            "grid_gap": null,
            "grid_row": null,
            "grid_template_areas": null,
            "grid_template_columns": null,
            "grid_template_rows": null,
            "height": null,
            "justify_content": null,
            "justify_items": null,
            "left": null,
            "margin": null,
            "max_height": null,
            "max_width": null,
            "min_height": null,
            "min_width": null,
            "object_fit": null,
            "object_position": null,
            "order": null,
            "overflow": null,
            "overflow_x": null,
            "overflow_y": null,
            "padding": null,
            "right": null,
            "top": null,
            "visibility": null,
            "width": null
          }
        },
        "bc0c93bc2c4644b7bcbe477ac4713d96": {
          "model_module": "@jupyter-widgets/controls",
          "model_name": "ProgressStyleModel",
          "model_module_version": "1.5.0",
          "state": {
            "_model_module": "@jupyter-widgets/controls",
            "_model_module_version": "1.5.0",
            "_model_name": "ProgressStyleModel",
            "_view_count": null,
            "_view_module": "@jupyter-widgets/base",
            "_view_module_version": "1.2.0",
            "_view_name": "StyleView",
            "bar_color": null,
            "description_width": ""
          }
        },
        "bfbf647ce94c4100b1c26d41f77d1a5d": {
          "model_module": "@jupyter-widgets/base",
          "model_name": "LayoutModel",
          "model_module_version": "1.2.0",
          "state": {
            "_model_module": "@jupyter-widgets/base",
            "_model_module_version": "1.2.0",
            "_model_name": "LayoutModel",
            "_view_count": null,
            "_view_module": "@jupyter-widgets/base",
            "_view_module_version": "1.2.0",
            "_view_name": "LayoutView",
            "align_content": null,
            "align_items": null,
            "align_self": null,
            "border": null,
            "bottom": null,
            "display": null,
            "flex": null,
            "flex_flow": null,
            "grid_area": null,
            "grid_auto_columns": null,
            "grid_auto_flow": null,
            "grid_auto_rows": null,
            "grid_column": null,
            "grid_gap": null,
            "grid_row": null,
            "grid_template_areas": null,
            "grid_template_columns": null,
            "grid_template_rows": null,
            "height": null,
            "justify_content": null,
            "justify_items": null,
            "left": null,
            "margin": null,
            "max_height": null,
            "max_width": null,
            "min_height": null,
            "min_width": null,
            "object_fit": null,
            "object_position": null,
            "order": null,
            "overflow": null,
            "overflow_x": null,
            "overflow_y": null,
            "padding": null,
            "right": null,
            "top": null,
            "visibility": null,
            "width": null
          }
        },
        "b70b43c9456a444aaafed2a205ff8c06": {
          "model_module": "@jupyter-widgets/controls",
          "model_name": "DescriptionStyleModel",
          "model_module_version": "1.5.0",
          "state": {
            "_model_module": "@jupyter-widgets/controls",
            "_model_module_version": "1.5.0",
            "_model_name": "DescriptionStyleModel",
            "_view_count": null,
            "_view_module": "@jupyter-widgets/base",
            "_view_module_version": "1.2.0",
            "_view_name": "StyleView",
            "description_width": ""
          }
        },
        "5e7f3e5fe7644bf2907b38f53e0a917b": {
          "model_module": "@jupyter-widgets/controls",
          "model_name": "HBoxModel",
          "model_module_version": "1.5.0",
          "state": {
            "_dom_classes": [],
            "_model_module": "@jupyter-widgets/controls",
            "_model_module_version": "1.5.0",
            "_model_name": "HBoxModel",
            "_view_count": null,
            "_view_module": "@jupyter-widgets/controls",
            "_view_module_version": "1.5.0",
            "_view_name": "HBoxView",
            "box_style": "",
            "children": [
              "IPY_MODEL_b0baa47e910648738b6ce96022e4d270",
              "IPY_MODEL_82ec98116e694524afac4c42d327c453",
              "IPY_MODEL_f8f5a9db93274d599bf4c6fd203c7e2b"
            ],
            "layout": "IPY_MODEL_325381b5cedd4224a109ae8c3b2d17bc"
          }
        },
        "b0baa47e910648738b6ce96022e4d270": {
          "model_module": "@jupyter-widgets/controls",
          "model_name": "HTMLModel",
          "model_module_version": "1.5.0",
          "state": {
            "_dom_classes": [],
            "_model_module": "@jupyter-widgets/controls",
            "_model_module_version": "1.5.0",
            "_model_name": "HTMLModel",
            "_view_count": null,
            "_view_module": "@jupyter-widgets/controls",
            "_view_module_version": "1.5.0",
            "_view_name": "HTMLView",
            "description": "",
            "description_tooltip": null,
            "layout": "IPY_MODEL_6a922c30065446cf92fb945e94fce479",
            "placeholder": "​",
            "style": "IPY_MODEL_0432cc6078cc47caa58306438c74d6f1",
            "value": "model.safetensors: 100%"
          }
        },
        "82ec98116e694524afac4c42d327c453": {
          "model_module": "@jupyter-widgets/controls",
          "model_name": "FloatProgressModel",
          "model_module_version": "1.5.0",
          "state": {
            "_dom_classes": [],
            "_model_module": "@jupyter-widgets/controls",
            "_model_module_version": "1.5.0",
            "_model_name": "FloatProgressModel",
            "_view_count": null,
            "_view_module": "@jupyter-widgets/controls",
            "_view_module_version": "1.5.0",
            "_view_name": "ProgressView",
            "bar_style": "success",
            "description": "",
            "description_tooltip": null,
            "layout": "IPY_MODEL_1292143480b84481bb7e6d00ad4b3002",
            "max": 440449768,
            "min": 0,
            "orientation": "horizontal",
            "style": "IPY_MODEL_e24add3195cc4e4f9e4d818865fc5a94",
            "value": 440449768
          }
        },
        "f8f5a9db93274d599bf4c6fd203c7e2b": {
          "model_module": "@jupyter-widgets/controls",
          "model_name": "HTMLModel",
          "model_module_version": "1.5.0",
          "state": {
            "_dom_classes": [],
            "_model_module": "@jupyter-widgets/controls",
            "_model_module_version": "1.5.0",
            "_model_name": "HTMLModel",
            "_view_count": null,
            "_view_module": "@jupyter-widgets/controls",
            "_view_module_version": "1.5.0",
            "_view_name": "HTMLView",
            "description": "",
            "description_tooltip": null,
            "layout": "IPY_MODEL_19827534f3cd4e56849e98ada7fbd659",
            "placeholder": "​",
            "style": "IPY_MODEL_21a1e9318c294ce4a967d2121ae5d37e",
            "value": " 440M/440M [00:03&lt;00:00, 117MB/s]"
          }
        },
        "325381b5cedd4224a109ae8c3b2d17bc": {
          "model_module": "@jupyter-widgets/base",
          "model_name": "LayoutModel",
          "model_module_version": "1.2.0",
          "state": {
            "_model_module": "@jupyter-widgets/base",
            "_model_module_version": "1.2.0",
            "_model_name": "LayoutModel",
            "_view_count": null,
            "_view_module": "@jupyter-widgets/base",
            "_view_module_version": "1.2.0",
            "_view_name": "LayoutView",
            "align_content": null,
            "align_items": null,
            "align_self": null,
            "border": null,
            "bottom": null,
            "display": null,
            "flex": null,
            "flex_flow": null,
            "grid_area": null,
            "grid_auto_columns": null,
            "grid_auto_flow": null,
            "grid_auto_rows": null,
            "grid_column": null,
            "grid_gap": null,
            "grid_row": null,
            "grid_template_areas": null,
            "grid_template_columns": null,
            "grid_template_rows": null,
            "height": null,
            "justify_content": null,
            "justify_items": null,
            "left": null,
            "margin": null,
            "max_height": null,
            "max_width": null,
            "min_height": null,
            "min_width": null,
            "object_fit": null,
            "object_position": null,
            "order": null,
            "overflow": null,
            "overflow_x": null,
            "overflow_y": null,
            "padding": null,
            "right": null,
            "top": null,
            "visibility": null,
            "width": null
          }
        },
        "6a922c30065446cf92fb945e94fce479": {
          "model_module": "@jupyter-widgets/base",
          "model_name": "LayoutModel",
          "model_module_version": "1.2.0",
          "state": {
            "_model_module": "@jupyter-widgets/base",
            "_model_module_version": "1.2.0",
            "_model_name": "LayoutModel",
            "_view_count": null,
            "_view_module": "@jupyter-widgets/base",
            "_view_module_version": "1.2.0",
            "_view_name": "LayoutView",
            "align_content": null,
            "align_items": null,
            "align_self": null,
            "border": null,
            "bottom": null,
            "display": null,
            "flex": null,
            "flex_flow": null,
            "grid_area": null,
            "grid_auto_columns": null,
            "grid_auto_flow": null,
            "grid_auto_rows": null,
            "grid_column": null,
            "grid_gap": null,
            "grid_row": null,
            "grid_template_areas": null,
            "grid_template_columns": null,
            "grid_template_rows": null,
            "height": null,
            "justify_content": null,
            "justify_items": null,
            "left": null,
            "margin": null,
            "max_height": null,
            "max_width": null,
            "min_height": null,
            "min_width": null,
            "object_fit": null,
            "object_position": null,
            "order": null,
            "overflow": null,
            "overflow_x": null,
            "overflow_y": null,
            "padding": null,
            "right": null,
            "top": null,
            "visibility": null,
            "width": null
          }
        },
        "0432cc6078cc47caa58306438c74d6f1": {
          "model_module": "@jupyter-widgets/controls",
          "model_name": "DescriptionStyleModel",
          "model_module_version": "1.5.0",
          "state": {
            "_model_module": "@jupyter-widgets/controls",
            "_model_module_version": "1.5.0",
            "_model_name": "DescriptionStyleModel",
            "_view_count": null,
            "_view_module": "@jupyter-widgets/base",
            "_view_module_version": "1.2.0",
            "_view_name": "StyleView",
            "description_width": ""
          }
        },
        "1292143480b84481bb7e6d00ad4b3002": {
          "model_module": "@jupyter-widgets/base",
          "model_name": "LayoutModel",
          "model_module_version": "1.2.0",
          "state": {
            "_model_module": "@jupyter-widgets/base",
            "_model_module_version": "1.2.0",
            "_model_name": "LayoutModel",
            "_view_count": null,
            "_view_module": "@jupyter-widgets/base",
            "_view_module_version": "1.2.0",
            "_view_name": "LayoutView",
            "align_content": null,
            "align_items": null,
            "align_self": null,
            "border": null,
            "bottom": null,
            "display": null,
            "flex": null,
            "flex_flow": null,
            "grid_area": null,
            "grid_auto_columns": null,
            "grid_auto_flow": null,
            "grid_auto_rows": null,
            "grid_column": null,
            "grid_gap": null,
            "grid_row": null,
            "grid_template_areas": null,
            "grid_template_columns": null,
            "grid_template_rows": null,
            "height": null,
            "justify_content": null,
            "justify_items": null,
            "left": null,
            "margin": null,
            "max_height": null,
            "max_width": null,
            "min_height": null,
            "min_width": null,
            "object_fit": null,
            "object_position": null,
            "order": null,
            "overflow": null,
            "overflow_x": null,
            "overflow_y": null,
            "padding": null,
            "right": null,
            "top": null,
            "visibility": null,
            "width": null
          }
        },
        "e24add3195cc4e4f9e4d818865fc5a94": {
          "model_module": "@jupyter-widgets/controls",
          "model_name": "ProgressStyleModel",
          "model_module_version": "1.5.0",
          "state": {
            "_model_module": "@jupyter-widgets/controls",
            "_model_module_version": "1.5.0",
            "_model_name": "ProgressStyleModel",
            "_view_count": null,
            "_view_module": "@jupyter-widgets/base",
            "_view_module_version": "1.2.0",
            "_view_name": "StyleView",
            "bar_color": null,
            "description_width": ""
          }
        },
        "19827534f3cd4e56849e98ada7fbd659": {
          "model_module": "@jupyter-widgets/base",
          "model_name": "LayoutModel",
          "model_module_version": "1.2.0",
          "state": {
            "_model_module": "@jupyter-widgets/base",
            "_model_module_version": "1.2.0",
            "_model_name": "LayoutModel",
            "_view_count": null,
            "_view_module": "@jupyter-widgets/base",
            "_view_module_version": "1.2.0",
            "_view_name": "LayoutView",
            "align_content": null,
            "align_items": null,
            "align_self": null,
            "border": null,
            "bottom": null,
            "display": null,
            "flex": null,
            "flex_flow": null,
            "grid_area": null,
            "grid_auto_columns": null,
            "grid_auto_flow": null,
            "grid_auto_rows": null,
            "grid_column": null,
            "grid_gap": null,
            "grid_row": null,
            "grid_template_areas": null,
            "grid_template_columns": null,
            "grid_template_rows": null,
            "height": null,
            "justify_content": null,
            "justify_items": null,
            "left": null,
            "margin": null,
            "max_height": null,
            "max_width": null,
            "min_height": null,
            "min_width": null,
            "object_fit": null,
            "object_position": null,
            "order": null,
            "overflow": null,
            "overflow_x": null,
            "overflow_y": null,
            "padding": null,
            "right": null,
            "top": null,
            "visibility": null,
            "width": null
          }
        },
        "21a1e9318c294ce4a967d2121ae5d37e": {
          "model_module": "@jupyter-widgets/controls",
          "model_name": "DescriptionStyleModel",
          "model_module_version": "1.5.0",
          "state": {
            "_model_module": "@jupyter-widgets/controls",
            "_model_module_version": "1.5.0",
            "_model_name": "DescriptionStyleModel",
            "_view_count": null,
            "_view_module": "@jupyter-widgets/base",
            "_view_module_version": "1.2.0",
            "_view_name": "StyleView",
            "description_width": ""
          }
        }
      }
    }
  },
  "cells": [
    {
      "cell_type": "markdown",
      "metadata": {
        "id": "EABqkrjYerSx"
      },
      "source": [
        "# Colab output wrapper"
      ]
    },
    {
      "cell_type": "code",
      "source": [
        "from google.colab import drive\n",
        "drive.mount('/content/drive')"
      ],
      "metadata": {
        "colab": {
          "base_uri": "https://localhost:8080/"
        },
        "id": "wgtXJKkcMGVR",
        "outputId": "98f08305-5ab4-4ce2-f070-bceb6f7a6e20"
      },
      "execution_count": null,
      "outputs": [
        {
          "output_type": "stream",
          "name": "stdout",
          "text": [
            "Mounted at /content/drive\n"
          ]
        }
      ]
    },
    {
      "cell_type": "code",
      "metadata": {
        "id": "z3HW7x111o9w"
      },
      "source": [
        "# wrap the output in colab cells\n",
        "from IPython.display import HTML, display\n",
        "\n",
        "def set_css():\n",
        "  display(HTML('''\n",
        "  <style>\n",
        "    pre {\n",
        "        white-space: pre-wrap;\n",
        "    }\n",
        "  </style>\n",
        "  '''))\n",
        "get_ipython().events.register('pre_run_cell', set_css)"
      ],
      "execution_count": null,
      "outputs": []
    },
    {
      "cell_type": "markdown",
      "metadata": {
        "id": "fcU3meX9e0b5"
      },
      "source": [
        "# Install Transformers"
      ]
    },
    {
      "cell_type": "code",
      "metadata": {
        "id": "JUgW5Gy10DxC",
        "colab": {
          "base_uri": "https://localhost:8080/"
        },
        "outputId": "9def875a-209a-4aaa-d47e-6407a08f5bcd"
      },
      "source": [
        "# install transformers with sentencepiece\n",
        "!pip install transformers[sentencepiece]"
      ],
      "execution_count": null,
      "outputs": [
        {
          "output_type": "stream",
          "name": "stdout",
          "text": [
            "Requirement already satisfied: transformers[sentencepiece] in /usr/local/lib/python3.10/dist-packages (4.38.2)\n",
            "Requirement already satisfied: filelock in /usr/local/lib/python3.10/dist-packages (from transformers[sentencepiece]) (3.13.4)\n",
            "Requirement already satisfied: huggingface-hub<1.0,>=0.19.3 in /usr/local/lib/python3.10/dist-packages (from transformers[sentencepiece]) (0.20.3)\n",
            "Requirement already satisfied: numpy>=1.17 in /usr/local/lib/python3.10/dist-packages (from transformers[sentencepiece]) (1.25.2)\n",
            "Requirement already satisfied: packaging>=20.0 in /usr/local/lib/python3.10/dist-packages (from transformers[sentencepiece]) (24.0)\n",
            "Requirement already satisfied: pyyaml>=5.1 in /usr/local/lib/python3.10/dist-packages (from transformers[sentencepiece]) (6.0.1)\n",
            "Requirement already satisfied: regex!=2019.12.17 in /usr/local/lib/python3.10/dist-packages (from transformers[sentencepiece]) (2023.12.25)\n",
            "Requirement already satisfied: requests in /usr/local/lib/python3.10/dist-packages (from transformers[sentencepiece]) (2.31.0)\n",
            "Requirement already satisfied: tokenizers<0.19,>=0.14 in /usr/local/lib/python3.10/dist-packages (from transformers[sentencepiece]) (0.15.2)\n",
            "Requirement already satisfied: safetensors>=0.4.1 in /usr/local/lib/python3.10/dist-packages (from transformers[sentencepiece]) (0.4.2)\n",
            "Requirement already satisfied: tqdm>=4.27 in /usr/local/lib/python3.10/dist-packages (from transformers[sentencepiece]) (4.66.2)\n",
            "Requirement already satisfied: sentencepiece!=0.1.92,>=0.1.91 in /usr/local/lib/python3.10/dist-packages (from transformers[sentencepiece]) (0.1.99)\n",
            "Requirement already satisfied: protobuf in /usr/local/lib/python3.10/dist-packages (from transformers[sentencepiece]) (3.20.3)\n",
            "Requirement already satisfied: fsspec>=2023.5.0 in /usr/local/lib/python3.10/dist-packages (from huggingface-hub<1.0,>=0.19.3->transformers[sentencepiece]) (2023.6.0)\n",
            "Requirement already satisfied: typing-extensions>=3.7.4.3 in /usr/local/lib/python3.10/dist-packages (from huggingface-hub<1.0,>=0.19.3->transformers[sentencepiece]) (4.11.0)\n",
            "Requirement already satisfied: charset-normalizer<4,>=2 in /usr/local/lib/python3.10/dist-packages (from requests->transformers[sentencepiece]) (3.3.2)\n",
            "Requirement already satisfied: idna<4,>=2.5 in /usr/local/lib/python3.10/dist-packages (from requests->transformers[sentencepiece]) (3.6)\n",
            "Requirement already satisfied: urllib3<3,>=1.21.1 in /usr/local/lib/python3.10/dist-packages (from requests->transformers[sentencepiece]) (2.0.7)\n",
            "Requirement already satisfied: certifi>=2017.4.17 in /usr/local/lib/python3.10/dist-packages (from requests->transformers[sentencepiece]) (2024.2.2)\n"
          ]
        }
      ]
    },
    {
      "cell_type": "markdown",
      "metadata": {
        "id": "2jeHwHDYe_5i"
      },
      "source": [
        "# Read input file from Google Drive"
      ]
    },
    {
      "cell_type": "code",
      "metadata": {
        "id": "l9b_kRpd0MaA"
      },
      "source": [
        "# open and read the file from google drive\n",
        "file = open(\"/content/drive/MyDrive/to be delete/judgment/78.txt\", \"r\")\n",
        "FileContent = file.read().strip()"
      ],
      "execution_count": null,
      "outputs": []
    },
    {
      "cell_type": "code",
      "metadata": {
        "id": "YQZdCUmB0YeE"
      },
      "source": [
        "# display file content\n",
        "FileContent"
      ],
      "execution_count": null,
      "outputs": []
    },
    {
      "cell_type": "code",
      "metadata": {
        "colab": {
          "base_uri": "https://localhost:8080/"
        },
        "id": "iJ3crA_B7dCu",
        "outputId": "2fb916e6-1f6a-4248-dcc1-7097807072e8"
      },
      "source": [
        "# total characters in the file\n",
        "len(FileContent)"
      ],
      "execution_count": null,
      "outputs": [
        {
          "output_type": "execute_result",
          "data": {
            "text/plain": [
              "71691"
            ]
          },
          "metadata": {},
          "execution_count": 71
        }
      ]
    },
    {
      "cell_type": "markdown",
      "metadata": {
        "id": "flBNsq8NfY0Y"
      },
      "source": [
        "# Load the Model and Tokenizer"
      ]
    },
    {
      "cell_type": "code",
      "metadata": {
        "id": "By4ADnD40Zmt",
        "colab": {
          "base_uri": "https://localhost:8080/",
          "referenced_widgets": [
            "00b303c0c0664f248281f1115a6aefd2",
            "4994f307bc784ca8b9724a825899a79f",
            "aa0db590fbf142aaaf5613949039db94",
            "6bd276a4030942679941f782e4f2f044",
            "534156ba4e4b446c854e55b80c7b290e",
            "531c02039b8c4954a8603513d7fbf43d",
            "08e91c23e53c4658a3c9959b3cfcd468",
            "255e7f31abad4404b919cf34e4625a75",
            "574f1b14745f4cbf8aebea55a2e1f708",
            "49915285e7bf4379ab4aea1725930e21",
            "d374db55af5b49db99cec51fbbc22c1c",
            "3d19a5ee005448a29b64e9aae08597e9",
            "d0e9fa95831543a4b30da730a1901f8b",
            "b4b7402f93d14b0c9a0c602d594afa87",
            "27a8ae8ab206478aa260f45f2497efea",
            "cb405332518a44218cccfef92dad2855",
            "0719a50af6cc4d968b89f340bc3dc45d",
            "89636d9cc8e540e08d700ade8cc87e51",
            "80c0c990b5174f8299aeef7ad5578a35",
            "96940ef7e09043e787d3239bd177391b",
            "4c08c4534e2642989962377595705d6f",
            "364d37b42b47453e99cd52bf6ba749c2",
            "6e5c660801da4f1287392c9b5e63af2d",
            "8f8b0fff96534699810762a2a37971a6",
            "e5ad3130def64f8086d09d1f1d908146",
            "a0326a57bf09409fa2300c7a043b9dfa",
            "a3e503dbdd3e445e8266a10af426929f",
            "82b62339d5ea41a394760374a233cd10",
            "091a60432ca14e48954cb5e7b6ac22cb",
            "2f0c63e24d524b61862ed7b9807102fd",
            "32325f1350f54b9eae2c47817d30dbcc",
            "373e5252d75c47058cd7f6e175c7b26f",
            "658eb05ab93241898059387c512d3279",
            "e01137788e264948b1a15cf8206df326",
            "34d61c44549448ca8b7e62be857b88f6",
            "b642051a142a48479e1a6c7dc76eccbe",
            "4bb59ac8f8b14eb4b3ef1264b1f6e357",
            "6c8aa60d42c942b788768983d937f307",
            "ee4117719574426286975ff5c559e2aa",
            "7cb699f6ee6e4c558b8f22144d81c0bc",
            "09b204ef0d4a41b1ae09fcda1025e103",
            "dce944ca9fd746469fb1d72650afb443",
            "1fbe235f8b6a41cfa111c467de44b691",
            "2c7da59a9f2649d8b09f11411cd51da6",
            "db0e83016bcc400aa8bfdb083f7d3e44",
            "c89b6ffaeb70460281e696d9baddf8cd",
            "c7bb7d41b489497695f909a5148102ac",
            "cc062ae83ba04180a5ee2933d79cfc90",
            "7b8359deff3b4f619e8ae9675927a984",
            "ca573a27b2f24ac38ec025116275a5fd",
            "2a757c9455784ffd925d14e68bef0177",
            "5219a2652f4344da8be6ccae97836cd6",
            "e7760fd0138e4ee398b219975513db05",
            "5e775e1c9fb34eb89011ad08cc018295",
            "01c2e2bbce0640d7a9e24577b8b454c7"
          ]
        },
        "outputId": "f956f51c-3ecf-40b6-c8a5-9d2331912626"
      },
      "source": [
        "# import and initialize the tokenizer and model from the checkpoint\n",
        "from transformers import AutoTokenizer, AutoModelForSeq2SeqLM\n",
        "\n",
        "checkpoint = \"sshleifer/distilbart-cnn-12-6\"\n",
        "\n",
        "tokenizer = AutoTokenizer.from_pretrained(checkpoint)\n",
        "model = AutoModelForSeq2SeqLM.from_pretrained(checkpoint)"
      ],
      "execution_count": null,
      "outputs": [
        {
          "output_type": "stream",
          "name": "stderr",
          "text": [
            "/usr/local/lib/python3.10/dist-packages/huggingface_hub/utils/_token.py:88: UserWarning: \n",
            "The secret `HF_TOKEN` does not exist in your Colab secrets.\n",
            "To authenticate with the Hugging Face Hub, create a token in your settings tab (https://huggingface.co/settings/tokens), set it as secret in your Google Colab and restart your session.\n",
            "You will be able to reuse this secret in all of your notebooks.\n",
            "Please note that authentication is recommended but still optional to access public models or datasets.\n",
            "  warnings.warn(\n"
          ]
        },
        {
          "output_type": "display_data",
          "data": {
            "text/plain": [
              "tokenizer_config.json:   0%|          | 0.00/26.0 [00:00<?, ?B/s]"
            ],
            "application/vnd.jupyter.widget-view+json": {
              "version_major": 2,
              "version_minor": 0,
              "model_id": "00b303c0c0664f248281f1115a6aefd2"
            }
          },
          "metadata": {}
        },
        {
          "output_type": "display_data",
          "data": {
            "text/plain": [
              "config.json:   0%|          | 0.00/1.80k [00:00<?, ?B/s]"
            ],
            "application/vnd.jupyter.widget-view+json": {
              "version_major": 2,
              "version_minor": 0,
              "model_id": "3d19a5ee005448a29b64e9aae08597e9"
            }
          },
          "metadata": {}
        },
        {
          "output_type": "display_data",
          "data": {
            "text/plain": [
              "vocab.json:   0%|          | 0.00/899k [00:00<?, ?B/s]"
            ],
            "application/vnd.jupyter.widget-view+json": {
              "version_major": 2,
              "version_minor": 0,
              "model_id": "6e5c660801da4f1287392c9b5e63af2d"
            }
          },
          "metadata": {}
        },
        {
          "output_type": "display_data",
          "data": {
            "text/plain": [
              "merges.txt:   0%|          | 0.00/456k [00:00<?, ?B/s]"
            ],
            "application/vnd.jupyter.widget-view+json": {
              "version_major": 2,
              "version_minor": 0,
              "model_id": "e01137788e264948b1a15cf8206df326"
            }
          },
          "metadata": {}
        },
        {
          "output_type": "display_data",
          "data": {
            "text/plain": [
              "pytorch_model.bin:   0%|          | 0.00/1.22G [00:00<?, ?B/s]"
            ],
            "application/vnd.jupyter.widget-view+json": {
              "version_major": 2,
              "version_minor": 0,
              "model_id": "db0e83016bcc400aa8bfdb083f7d3e44"
            }
          },
          "metadata": {}
        }
      ]
    },
    {
      "cell_type": "markdown",
      "metadata": {
        "id": "WKVut2I8ffeG"
      },
      "source": [
        "# Some model statistics"
      ]
    },
    {
      "cell_type": "code",
      "metadata": {
        "colab": {
          "base_uri": "https://localhost:8080/",
          "height": 34
        },
        "id": "kfeTQ3u_0_nc",
        "outputId": "ce73dba0-33de-474d-f1eb-2868759ab4b0"
      },
      "source": [
        "# max tokens including the special tokens\n",
        "tokenizer.model_max_length"
      ],
      "execution_count": null,
      "outputs": [
        {
          "output_type": "display_data",
          "data": {
            "text/plain": [
              "<IPython.core.display.HTML object>"
            ],
            "text/html": [
              "\n",
              "  <style>\n",
              "    pre {\n",
              "        white-space: pre-wrap;\n",
              "    }\n",
              "  </style>\n",
              "  "
            ]
          },
          "metadata": {}
        },
        {
          "output_type": "execute_result",
          "data": {
            "text/plain": [
              "1024"
            ]
          },
          "metadata": {},
          "execution_count": 163
        }
      ]
    },
    {
      "cell_type": "code",
      "metadata": {
        "colab": {
          "base_uri": "https://localhost:8080/",
          "height": 34
        },
        "id": "u_faVn_JS5NV",
        "outputId": "6fb18ed6-1863-447e-eea9-688e5973793e"
      },
      "source": [
        "# max tokens excluding the special tokens\n",
        "tokenizer.max_len_single_sentence"
      ],
      "execution_count": null,
      "outputs": [
        {
          "output_type": "display_data",
          "data": {
            "text/plain": [
              "<IPython.core.display.HTML object>"
            ],
            "text/html": [
              "\n",
              "  <style>\n",
              "    pre {\n",
              "        white-space: pre-wrap;\n",
              "    }\n",
              "  </style>\n",
              "  "
            ]
          },
          "metadata": {}
        },
        {
          "output_type": "execute_result",
          "data": {
            "text/plain": [
              "1022"
            ]
          },
          "metadata": {},
          "execution_count": 164
        }
      ]
    },
    {
      "cell_type": "code",
      "metadata": {
        "colab": {
          "base_uri": "https://localhost:8080/",
          "height": 34
        },
        "id": "jki18a4yNyCw",
        "outputId": "c0455bdb-ec77-4b2b-f111-bb3ae83d468c"
      },
      "source": [
        "# number of special tokens\n",
        "tokenizer.num_special_tokens_to_add()"
      ],
      "execution_count": null,
      "outputs": [
        {
          "output_type": "display_data",
          "data": {
            "text/plain": [
              "<IPython.core.display.HTML object>"
            ],
            "text/html": [
              "\n",
              "  <style>\n",
              "    pre {\n",
              "        white-space: pre-wrap;\n",
              "    }\n",
              "  </style>\n",
              "  "
            ]
          },
          "metadata": {}
        },
        {
          "output_type": "execute_result",
          "data": {
            "text/plain": [
              "2"
            ]
          },
          "metadata": {},
          "execution_count": 165
        }
      ]
    },
    {
      "cell_type": "markdown",
      "metadata": {
        "id": "kubwFM6MX7rR"
      },
      "source": [
        "# Convert file content to sentences"
      ]
    },
    {
      "cell_type": "code",
      "metadata": {
        "colab": {
          "base_uri": "https://localhost:8080/"
        },
        "id": "Y41E2n-BXjRr",
        "outputId": "d778d81f-2cde-41ea-8fe8-df34572fec24"
      },
      "source": [
        "# extract the sentences from the document\n",
        "import nltk\n",
        "nltk.download('punkt')\n",
        "sentences = nltk.tokenize.sent_tokenize(FileContent)"
      ],
      "execution_count": null,
      "outputs": [
        {
          "output_type": "stream",
          "name": "stderr",
          "text": [
            "[nltk_data] Downloading package punkt to /root/nltk_data...\n",
            "[nltk_data]   Package punkt is already up-to-date!\n"
          ]
        }
      ]
    },
    {
      "cell_type": "code",
      "metadata": {
        "colab": {
          "base_uri": "https://localhost:8080/"
        },
        "id": "S7pHJ31xbJ6O",
        "outputId": "ab0df031-4fbb-4858-a1bb-42c9e68e7bce"
      },
      "source": [
        "# find the max tokens in the longest sentence\n",
        "max([len(tokenizer.tokenize(sentence)) for sentence in sentences])"
      ],
      "execution_count": null,
      "outputs": [
        {
          "output_type": "execute_result",
          "data": {
            "text/plain": [
              "137"
            ]
          },
          "metadata": {},
          "execution_count": 31
        }
      ]
    },
    {
      "cell_type": "markdown",
      "metadata": {
        "id": "5amp-uoNezvV"
      },
      "source": [
        "# Create the chunks"
      ]
    },
    {
      "cell_type": "code",
      "metadata": {
        "colab": {
          "base_uri": "https://localhost:8080/"
        },
        "id": "SO-QPuAoY6BH",
        "outputId": "784fe1e8-4471-4f84-d553-696e1263037d"
      },
      "source": [
        "# initialize\n",
        "length = 0\n",
        "chunk = \"\"\n",
        "chunks = []\n",
        "count = -1\n",
        "for sentence in sentences:\n",
        "  count += 1\n",
        "  combined_length = len(tokenizer.tokenize(sentence)) + length # add the no. of sentence tokens to the length counter\n",
        "\n",
        "  if combined_length  <= tokenizer.max_len_single_sentence: # if it doesn't exceed\n",
        "    chunk += sentence + \" \" # add the sentence to the chunk\n",
        "    length = combined_length # update the length counter\n",
        "\n",
        "    # if it is the last sentence\n",
        "    if count == len(sentences) - 1:\n",
        "      chunks.append(chunk.strip()) # save the chunk\n",
        "\n",
        "  else:\n",
        "    chunks.append(chunk.strip()) # save the chunk\n",
        "\n",
        "    # reset\n",
        "    length = 0\n",
        "    chunk = \"\"\n",
        "\n",
        "    # take care of the overflow sentence\n",
        "    chunk += sentence + \" \"\n",
        "    length = len(tokenizer.tokenize(sentence))\n",
        "len(chunks)\n",
        "\n"
      ],
      "execution_count": null,
      "outputs": [
        {
          "output_type": "execute_result",
          "data": {
            "text/plain": [
              "3"
            ]
          },
          "metadata": {},
          "execution_count": 32
        }
      ]
    },
    {
      "cell_type": "code",
      "source": [
        "chunk_list=[]\n",
        "chunk_list=chunks"
      ],
      "metadata": {
        "id": "oQf-10-tVZsl"
      },
      "execution_count": null,
      "outputs": []
    },
    {
      "cell_type": "markdown",
      "metadata": {
        "id": "b3MjwOU4-vWZ"
      },
      "source": [
        "# Some checks"
      ]
    },
    {
      "cell_type": "code",
      "metadata": {
        "colab": {
          "base_uri": "https://localhost:8080/"
        },
        "id": "lANWYPQsa7mV",
        "outputId": "f67d0dd2-9c27-4f49-aeb1-0922e988c747"
      },
      "source": [
        "[len(tokenizer.tokenize(c)) for c in chunks]"
      ],
      "execution_count": null,
      "outputs": [
        {
          "output_type": "display_data",
          "data": {
            "text/plain": [
              "<IPython.core.display.HTML object>"
            ],
            "text/html": [
              "\n",
              "  <style>\n",
              "    pre {\n",
              "        white-space: pre-wrap;\n",
              "    }\n",
              "  </style>\n",
              "  "
            ]
          },
          "metadata": {}
        },
        {
          "output_type": "execute_result",
          "data": {
            "text/plain": [
              "[1006, 1008, 827]"
            ]
          },
          "metadata": {},
          "execution_count": 267
        }
      ]
    },
    {
      "cell_type": "code",
      "metadata": {
        "colab": {
          "base_uri": "https://localhost:8080/"
        },
        "id": "0tQe2jJya_HV",
        "outputId": "58024fe6-9351-4dd8-8952-9b87e23a688b"
      },
      "source": [
        "[len(tokenizer(c).input_ids) for c in chunks]"
      ],
      "execution_count": null,
      "outputs": [
        {
          "output_type": "display_data",
          "data": {
            "text/plain": [
              "<IPython.core.display.HTML object>"
            ],
            "text/html": [
              "\n",
              "  <style>\n",
              "    pre {\n",
              "        white-space: pre-wrap;\n",
              "    }\n",
              "  </style>\n",
              "  "
            ]
          },
          "metadata": {}
        },
        {
          "output_type": "execute_result",
          "data": {
            "text/plain": [
              "[1008, 1010, 829]"
            ]
          },
          "metadata": {},
          "execution_count": 268
        }
      ]
    },
    {
      "cell_type": "markdown",
      "metadata": {
        "id": "el24gv0f-9DJ"
      },
      "source": [
        "## With special tokens added"
      ]
    },
    {
      "cell_type": "code",
      "metadata": {
        "colab": {
          "base_uri": "https://localhost:8080/"
        },
        "id": "Mq-tLbFtFYHR",
        "outputId": "cab7b32c-e9b5-418d-a199-322f21027153"
      },
      "source": [
        "sum([len(tokenizer(c).input_ids) for c in chunks])"
      ],
      "execution_count": null,
      "outputs": [
        {
          "output_type": "display_data",
          "data": {
            "text/plain": [
              "<IPython.core.display.HTML object>"
            ],
            "text/html": [
              "\n",
              "  <style>\n",
              "    pre {\n",
              "        white-space: pre-wrap;\n",
              "    }\n",
              "  </style>\n",
              "  "
            ]
          },
          "metadata": {}
        },
        {
          "output_type": "execute_result",
          "data": {
            "text/plain": [
              "2847"
            ]
          },
          "metadata": {},
          "execution_count": 269
        }
      ]
    },
    {
      "cell_type": "code",
      "metadata": {
        "colab": {
          "base_uri": "https://localhost:8080/"
        },
        "id": "yokzuZmuGAQ_",
        "outputId": "9df134f2-6dcb-41b0-df90-d9596bf71356"
      },
      "source": [
        "len(tokenizer(FileContent).input_ids)"
      ],
      "execution_count": null,
      "outputs": [
        {
          "output_type": "display_data",
          "data": {
            "text/plain": [
              "<IPython.core.display.HTML object>"
            ],
            "text/html": [
              "\n",
              "  <style>\n",
              "    pre {\n",
              "        white-space: pre-wrap;\n",
              "    }\n",
              "  </style>\n",
              "  "
            ]
          },
          "metadata": {}
        },
        {
          "output_type": "execute_result",
          "data": {
            "text/plain": [
              "2909"
            ]
          },
          "metadata": {},
          "execution_count": 270
        }
      ]
    },
    {
      "cell_type": "markdown",
      "metadata": {
        "id": "qe0UKJZr-1Qt"
      },
      "source": [
        "## Without special tokens added"
      ]
    },
    {
      "cell_type": "code",
      "metadata": {
        "colab": {
          "base_uri": "https://localhost:8080/"
        },
        "id": "u1nynSGcFiSh",
        "outputId": "b63a5225-b53d-45aa-98ef-776aca17454d"
      },
      "source": [
        "sum([len(tokenizer.tokenize(c)) for c in chunks])"
      ],
      "execution_count": null,
      "outputs": [
        {
          "output_type": "display_data",
          "data": {
            "text/plain": [
              "<IPython.core.display.HTML object>"
            ],
            "text/html": [
              "\n",
              "  <style>\n",
              "    pre {\n",
              "        white-space: pre-wrap;\n",
              "    }\n",
              "  </style>\n",
              "  "
            ]
          },
          "metadata": {}
        },
        {
          "output_type": "execute_result",
          "data": {
            "text/plain": [
              "2841"
            ]
          },
          "metadata": {},
          "execution_count": 271
        }
      ]
    },
    {
      "cell_type": "code",
      "metadata": {
        "colab": {
          "base_uri": "https://localhost:8080/"
        },
        "id": "JdnNz9D2GFAz",
        "outputId": "55ae1ec9-58d3-442b-c63c-e99fa45fd7b0"
      },
      "source": [
        "len(tokenizer.tokenize(FileContent))"
      ],
      "execution_count": null,
      "outputs": [
        {
          "output_type": "display_data",
          "data": {
            "text/plain": [
              "<IPython.core.display.HTML object>"
            ],
            "text/html": [
              "\n",
              "  <style>\n",
              "    pre {\n",
              "        white-space: pre-wrap;\n",
              "    }\n",
              "  </style>\n",
              "  "
            ]
          },
          "metadata": {}
        },
        {
          "output_type": "execute_result",
          "data": {
            "text/plain": [
              "2907"
            ]
          },
          "metadata": {},
          "execution_count": 272
        }
      ]
    },
    {
      "cell_type": "markdown",
      "metadata": {
        "id": "ZPluCcpKgGTi"
      },
      "source": [
        "# Get the inputs"
      ]
    },
    {
      "cell_type": "code",
      "metadata": {
        "id": "u98_-5RNhkEX"
      },
      "source": [
        "# inputs to the model\n",
        "inputs = [tokenizer(chunk, return_tensors=\"pt\") for chunk in chunks]"
      ],
      "execution_count": null,
      "outputs": []
    },
    {
      "cell_type": "markdown",
      "metadata": {
        "id": "iKQKEdo8eakp"
      },
      "source": [
        "# Output"
      ]
    },
    {
      "cell_type": "code",
      "metadata": {
        "colab": {
          "base_uri": "https://localhost:8080/"
        },
        "id": "REi6Ua8ejZ71",
        "outputId": "84117139-8b02-4b26-bbb9-04ca32c02d43"
      },
      "source": [
        "summary_list=[]\n",
        "for input in inputs:\n",
        "  output = model.generate(**input)\n",
        "  summary_list.append(tokenizer.decode(*output, skip_special_tokens=True))\n",
        "print(summary_list)"
      ],
      "execution_count": null,
      "outputs": [
        {
          "output_type": "stream",
          "name": "stdout",
          "text": [
            "[' Appeal from an Order of the High Court of Bombay (Bavdekar and Chainani JJ.) dated 20th February, 1950, in Criminal Appeal No. 106 of 1950. W.H. King was tenant of a flat on the second floor of a building called \"Ganga Vihar\", Marine Drive, Bombay, which belongs to a lady named Durgeshwari Devi.', ' The wife of the appellant denied any aiding and abetting. The wife was acquitted, the evidence being insufficient to prove any abetment. The appellant preferred an appeal to the High Court of Bombay but it was summarily dismissed. He asked for a certificate under article 134(1)(c) of the Constitution but this was rejected on 10 4 1950. He applied for special leave to appeal to this Court and it was granted on 3 10 1950.', ' The word \"relinquishment\" does not occur in the Transfer of Property Act but it is found in many of the Tenancy Acts in various provinces where there are Sec tions which deal with the relinquishment of their holdings by tenants in favour of the landlord by notice given to him in writing. The conviction under sub clause (2) cannot be sustained, the conviction is set aside and the fine of Rs. 30,000 will be refunded if it has been paid.']\n"
          ]
        }
      ]
    },
    {
      "cell_type": "markdown",
      "source": [
        "Convert list to dataframe"
      ],
      "metadata": {
        "id": "L8B1Nu_zWGtk"
      }
    },
    {
      "cell_type": "code",
      "source": [
        "# Convert lists to DataFrame\n",
        "#data = pd.DataFrame({\"Chunk\": chunk_list, \"Summary\": summary_list})\n",
        "# Write DataFrame to Excel file\n",
        "#data.to_excel(\"/content/drive/MyDrive/to be delete/getreadings.xlsx\", index=False)\n",
        "import os\n",
        "import pandas as pd\n",
        "# If the file exists, load existing data and append new data\n",
        "# Check if the file exists\n",
        "file_path = \"/content/drive/MyDrive/to be delete/test_data.xlsx\"\n",
        "file_exists = os.path.isfile(file_path)\n",
        "\n",
        "if file_exists:\n",
        "    existing_data = pd.read_excel(file_path)\n",
        "    combined_data = pd.concat([existing_data, pd.DataFrame({\"Chunk\": chunk_list, \"Summary\": summary_list})], ignore_index=True)\n",
        "else:\n",
        "    combined_data = pd.DataFrame({\"Chunk\": chunk_list, \"Summary\": summary_list})\n",
        "\n",
        "# Write combined data to Excel file\n",
        "combined_data.to_excel(file_path, index=False)"
      ],
      "metadata": {
        "id": "VzJGXVsvWGF9"
      },
      "execution_count": null,
      "outputs": []
    },
    {
      "cell_type": "markdown",
      "source": [
        "evaluation[link text](https://)"
      ],
      "metadata": {
        "id": "-tNhW8akO-_L"
      }
    },
    {
      "cell_type": "markdown",
      "source": [
        "# Blanc Evaluation"
      ],
      "metadata": {
        "id": "BL6PkKmB4Z00"
      }
    },
    {
      "cell_type": "code",
      "source": [
        "# extract the sentences from the document\n",
        "import nltk\n",
        "nltk.download('punkt')"
      ],
      "metadata": {
        "colab": {
          "base_uri": "https://localhost:8080/"
        },
        "id": "oZ5Ysl1FAzAS",
        "outputId": "24cda613-25cc-4999-ab78-75e04ebd9c92"
      },
      "execution_count": null,
      "outputs": [
        {
          "output_type": "stream",
          "name": "stderr",
          "text": [
            "[nltk_data] Downloading package punkt to /root/nltk_data...\n",
            "[nltk_data]   Unzipping tokenizers/punkt.zip.\n"
          ]
        },
        {
          "output_type": "execute_result",
          "data": {
            "text/plain": [
              "True"
            ]
          },
          "metadata": {},
          "execution_count": 1
        }
      ]
    },
    {
      "cell_type": "code",
      "source": [
        "pip install blanc"
      ],
      "metadata": {
        "colab": {
          "base_uri": "https://localhost:8080/"
        },
        "id": "v-MDaOo94K2I",
        "outputId": "72386b32-4922-407b-de16-a28c43f3aa69"
      },
      "execution_count": null,
      "outputs": [
        {
          "output_type": "stream",
          "name": "stdout",
          "text": [
            "Collecting blanc\n",
            "  Downloading blanc-0.3.4-py3-none-any.whl (29 kB)\n",
            "Requirement already satisfied: nltk<4.0,>=3.1 in /usr/local/lib/python3.10/dist-packages (from blanc) (3.8.1)\n",
            "Requirement already satisfied: numpy<2.0,>=1.0 in /usr/local/lib/python3.10/dist-packages (from blanc) (1.25.2)\n",
            "Requirement already satisfied: scipy>=1.6.0 in /usr/local/lib/python3.10/dist-packages (from blanc) (1.11.4)\n",
            "Collecting torch<2.0,>=1.0 (from blanc)\n",
            "  Downloading torch-1.13.1-cp310-cp310-manylinux1_x86_64.whl (887.5 MB)\n",
            "\u001b[2K     \u001b[90m━━━━━━━━━━━━━━━━━━━━━━━━━━━━━━━━━━━━━━━━\u001b[0m \u001b[32m887.5/887.5 MB\u001b[0m \u001b[31m875.5 kB/s\u001b[0m eta \u001b[36m0:00:00\u001b[0m\n",
            "\u001b[?25hRequirement already satisfied: tqdm<5.0,>=4.27.0 in /usr/local/lib/python3.10/dist-packages (from blanc) (4.66.2)\n",
            "Requirement already satisfied: transformers>=2.4.0 in /usr/local/lib/python3.10/dist-packages (from blanc) (4.38.2)\n",
            "Requirement already satisfied: click in /usr/local/lib/python3.10/dist-packages (from nltk<4.0,>=3.1->blanc) (8.1.7)\n",
            "Requirement already satisfied: joblib in /usr/local/lib/python3.10/dist-packages (from nltk<4.0,>=3.1->blanc) (1.3.2)\n",
            "Requirement already satisfied: regex>=2021.8.3 in /usr/local/lib/python3.10/dist-packages (from nltk<4.0,>=3.1->blanc) (2023.12.25)\n",
            "Requirement already satisfied: typing-extensions in /usr/local/lib/python3.10/dist-packages (from torch<2.0,>=1.0->blanc) (4.10.0)\n",
            "Collecting nvidia-cuda-runtime-cu11==11.7.99 (from torch<2.0,>=1.0->blanc)\n",
            "  Downloading nvidia_cuda_runtime_cu11-11.7.99-py3-none-manylinux1_x86_64.whl (849 kB)\n",
            "\u001b[2K     \u001b[90m━━━━━━━━━━━━━━━━━━━━━━━━━━━━━━━━━━━━━━━━\u001b[0m \u001b[32m849.3/849.3 kB\u001b[0m \u001b[31m59.9 MB/s\u001b[0m eta \u001b[36m0:00:00\u001b[0m\n",
            "\u001b[?25hCollecting nvidia-cudnn-cu11==8.5.0.96 (from torch<2.0,>=1.0->blanc)\n",
            "  Downloading nvidia_cudnn_cu11-8.5.0.96-2-py3-none-manylinux1_x86_64.whl (557.1 MB)\n",
            "\u001b[2K     \u001b[90m━━━━━━━━━━━━━━━━━━━━━━━━━━━━━━━━━━━━━━━━\u001b[0m \u001b[32m557.1/557.1 MB\u001b[0m \u001b[31m2.8 MB/s\u001b[0m eta \u001b[36m0:00:00\u001b[0m\n",
            "\u001b[?25hCollecting nvidia-cublas-cu11==11.10.3.66 (from torch<2.0,>=1.0->blanc)\n",
            "  Downloading nvidia_cublas_cu11-11.10.3.66-py3-none-manylinux1_x86_64.whl (317.1 MB)\n",
            "\u001b[2K     \u001b[90m━━━━━━━━━━━━━━━━━━━━━━━━━━━━━━━━━━━━━━━━\u001b[0m \u001b[32m317.1/317.1 MB\u001b[0m \u001b[31m2.6 MB/s\u001b[0m eta \u001b[36m0:00:00\u001b[0m\n",
            "\u001b[?25hCollecting nvidia-cuda-nvrtc-cu11==11.7.99 (from torch<2.0,>=1.0->blanc)\n",
            "  Downloading nvidia_cuda_nvrtc_cu11-11.7.99-2-py3-none-manylinux1_x86_64.whl (21.0 MB)\n",
            "\u001b[2K     \u001b[90m━━━━━━━━━━━━━━━━━━━━━━━━━━━━━━━━━━━━━━━━\u001b[0m \u001b[32m21.0/21.0 MB\u001b[0m \u001b[31m62.7 MB/s\u001b[0m eta \u001b[36m0:00:00\u001b[0m\n",
            "\u001b[?25hRequirement already satisfied: setuptools in /usr/local/lib/python3.10/dist-packages (from nvidia-cublas-cu11==11.10.3.66->torch<2.0,>=1.0->blanc) (67.7.2)\n",
            "Requirement already satisfied: wheel in /usr/local/lib/python3.10/dist-packages (from nvidia-cublas-cu11==11.10.3.66->torch<2.0,>=1.0->blanc) (0.43.0)\n",
            "Requirement already satisfied: filelock in /usr/local/lib/python3.10/dist-packages (from transformers>=2.4.0->blanc) (3.13.3)\n",
            "Requirement already satisfied: huggingface-hub<1.0,>=0.19.3 in /usr/local/lib/python3.10/dist-packages (from transformers>=2.4.0->blanc) (0.20.3)\n",
            "Requirement already satisfied: packaging>=20.0 in /usr/local/lib/python3.10/dist-packages (from transformers>=2.4.0->blanc) (24.0)\n",
            "Requirement already satisfied: pyyaml>=5.1 in /usr/local/lib/python3.10/dist-packages (from transformers>=2.4.0->blanc) (6.0.1)\n",
            "Requirement already satisfied: requests in /usr/local/lib/python3.10/dist-packages (from transformers>=2.4.0->blanc) (2.31.0)\n",
            "Requirement already satisfied: tokenizers<0.19,>=0.14 in /usr/local/lib/python3.10/dist-packages (from transformers>=2.4.0->blanc) (0.15.2)\n",
            "Requirement already satisfied: safetensors>=0.4.1 in /usr/local/lib/python3.10/dist-packages (from transformers>=2.4.0->blanc) (0.4.2)\n",
            "Requirement already satisfied: fsspec>=2023.5.0 in /usr/local/lib/python3.10/dist-packages (from huggingface-hub<1.0,>=0.19.3->transformers>=2.4.0->blanc) (2023.6.0)\n",
            "Requirement already satisfied: charset-normalizer<4,>=2 in /usr/local/lib/python3.10/dist-packages (from requests->transformers>=2.4.0->blanc) (3.3.2)\n",
            "Requirement already satisfied: idna<4,>=2.5 in /usr/local/lib/python3.10/dist-packages (from requests->transformers>=2.4.0->blanc) (3.6)\n",
            "Requirement already satisfied: urllib3<3,>=1.21.1 in /usr/local/lib/python3.10/dist-packages (from requests->transformers>=2.4.0->blanc) (2.0.7)\n",
            "Requirement already satisfied: certifi>=2017.4.17 in /usr/local/lib/python3.10/dist-packages (from requests->transformers>=2.4.0->blanc) (2024.2.2)\n",
            "Installing collected packages: nvidia-cuda-runtime-cu11, nvidia-cuda-nvrtc-cu11, nvidia-cublas-cu11, nvidia-cudnn-cu11, torch, blanc\n",
            "  Attempting uninstall: torch\n",
            "    Found existing installation: torch 2.2.1+cu121\n",
            "    Uninstalling torch-2.2.1+cu121:\n",
            "      Successfully uninstalled torch-2.2.1+cu121\n",
            "\u001b[31mERROR: pip's dependency resolver does not currently take into account all the packages that are installed. This behaviour is the source of the following dependency conflicts.\n",
            "torchaudio 2.2.1+cu121 requires torch==2.2.1, but you have torch 1.13.1 which is incompatible.\n",
            "torchdata 0.7.1 requires torch>=2, but you have torch 1.13.1 which is incompatible.\n",
            "torchtext 0.17.1 requires torch==2.2.1, but you have torch 1.13.1 which is incompatible.\n",
            "torchvision 0.17.1+cu121 requires torch==2.2.1, but you have torch 1.13.1 which is incompatible.\u001b[0m\u001b[31m\n",
            "\u001b[0mSuccessfully installed blanc-0.3.4 nvidia-cublas-cu11-11.10.3.66 nvidia-cuda-nvrtc-cu11-11.7.99 nvidia-cuda-runtime-cu11-11.7.99 nvidia-cudnn-cu11-8.5.0.96 torch-1.13.1\n"
          ]
        }
      ]
    },
    {
      "cell_type": "code",
      "source": [
        "document = \"\"\"\n",
        "N: Criminal Appeal No. 8 of 1951.\n",
        "Appeal from an Order of the High Court of Bombay (Bavdekar and Chainani JJ.) dated 20th February, 1950, in Criminal Appeal No. 106 of 1950 arising out of an order dated 9th January, 1950, of the Presidency Magistrate, 19th Court, Esplanade, Bombay, in Case No. 10879/P of 1949.\n",
        "The facts are stated in the judgment.\n",
        "Iswarlal C. Dalai and R.B. Dalai, for the appellant.\n",
        "C.K. Daphtary, Solicitor General for India (G. N. Joshi, with him) for the Republic of India (respondent No. 1).Jindra Lal for the respondent No. 2. 1952.\n",
        "February 1.\n",
        "The Judgment of the Court was deliv ered by CHANDRASEKHARA AIYAR J.\n",
        "The facts out of which this Crimi nal Appeal has arisen are not long.\n",
        "The appellant, W.H. King, who is carrying on a business in Bombay under the name and style of Associated Commercial Enterprises, was the tenant of a flat on the second floor of a building called \"Ganga Vihar\", Marine Drive, Bombay, which belongs to a lady named Durgeshwari Devi.\n",
        "The tenancy was a monthly one, the rent being Rs. 215.\n",
        "It is said that the appellant wanted to go to the United Kingdom for treatment of his failing eye sight and he got into touch with the complainant Mulchand Kodumal Bhatia, who is the second respondent in this appeal, through one Sayed for the purpose of making necessary ar rangements about the flat occupied by him in view of his intended departure.\n",
        "The prosecution case is that the accused demanded a sum of Rs. 30,000 which was later on reduced to Rs. 29,500 as consideration for putting the complainant in vacant possession of the flat and an additional amount of Rs. 2,000 for the furniture, and that the complainant agreed to pay these sums.\n",
        "The complainant actually paid the accused two sums of 420 Rs. 500 each on 7th November, 1948, and 17th November, 1948.\n",
        "He, however, got into touch with the police on 1 12 1948, and in conjunction with the latter, a trap was laid for the appellant.\n",
        "It was arranged that the complainant should bring with him Rs. 1,000, being the balance due in respect of the furniture and that the police would give him Rs. 29,500 to be paid to the appellant.\n",
        "The complainant and a Sub Inspec tor, posing as the complainant 's brother, went to the appel lant on 4 12 1948, and paid him the two sums of money; and the keys of the flat and the motor garage were handed over to the complainant.\n",
        "As the appellant and his wife were leaving the flat, the man, who masqueraded as the complain ant 's brother, threw off his disguise and disclosed his identity.\n",
        "The police party, who were down below ready for the raid, held up the car of the appellant and recovered the sum of Rs. 30,500 from the rear seat of the car and also some papers, a typed draft of a partnership agreement be tween the complainant and the appellant and an application form for permission to occupy the building as caretaker.\n",
        "From the complainant were recovered the bunch of keys and the documents that were handed over to him by the appellant, namely, the letter handing vacant possession (Exhibit D).\n",
        "the receipt for Rs. 2,000 for the articles of furniture (Exhibit E), a letter to the Bombay Gas Company for transfer of the gas connection to the name of the complainant (Exhib it F), and the letter to the Bombay Electric Supply and Transport Committee for transfer of the telephone connec tions and the deposit of Rs. 27 (Exhibit G).\n",
        "The appellant was charged under section 18(1) of the Bombay Rents, Hotel and Lodging House Rates Control Act, LVII of 1947, for receiving a pugree of Rs. 29,500 and he was further charged under section 19(2) of the said Act for receiving the said sum as a condition for the relin quishment of his tenancy.\n",
        "His wife, who was the second accused in the case, was charged with aiding and abetting her husband in the commission of the two offences.\n",
        "421 The defence of the appellant was that he was in search of a partner to carry on his business during his intended absence, who was also to act as caretaker of his flat anal that it was in this connection and with this object in view that he entered into negotiations with the complain ant.\n",
        "The sum of Rs. 29 500 was not pugree but represented capital for 0 12 0 share in the business and as the com plainant was also to be a caretaker of the flat, the sum of Rs. 2,000 was paid and received as a guarantee against disposal and damage of the furniture and it was agreed to be paid back on the appellant 's return to India.\n",
        "The wife of the appellant denied any aiding and abetting.\n",
        "The Presidency Magistrate, who tried the case, disbe lieved the defence on the facts, holding that what was received by the accused was by way of pugree.\n",
        "As section 18 (1) of the Act was not applicable he convicted him under section 19(2) of the Act and sentenced him, in view of his old age and blindness, to one day 's simple imprisonment and a fine of Rs. 30,000.\n",
        "The wife was acquitted, the evidence being insufficient to prove any abetment.\n",
        "The appellant preferred an appeal to the High Court of Bombay but it was summarily dismissed on 20 2 1950.\n",
        "He asked for a certificate under article 134(1)(c) of the Constitution but this was rejected on 10 4 1950.\n",
        "Thereaf ter he applied for special leave to appeal to this Court and it was granted on 3 10 1950.\n",
        "A short legal argument was advanced on behalf of the appellant based on the language of section 19 (1) of the Act and this is the only point which requires our consideration.\n",
        "The section which consists of two parts is in these terms:\" \"(1) It shall not be lawful for the tenant or any person acting or purporting to act on behalf of the tenant to claim or receive any sum or any consideration as a condi tion for the relinquishment of his tenancy of any premises; 422 (2) Any tenant or person who in contravention of the provisions of sub section (1) receives any sum or considera tion shall, on conviction, be punished with imprisonment for a term which may extend to 6 months and shall also be pun ished with fine which shall not be less than the sum or the value of the consideration received by him.\n",
        "\" It was urged that the offence arises only on receipt of any sum or any consideration as a condition of the relin quishment by a tenant of his tenancy and that in the present case there was no such relinquishment.\n",
        "Exhibit D, which is the most material document, under which the appellant handed over vacant possession of the flat to the complainant, constitutes or evidences an assignment of the tenancy and not a relinquishment.\n",
        "It says : \"I, W.H. King, hereby hand over vacant possession of my flat No. 3 situated on 2nd floor and garage No. 4 on the ground floor of Ganga Vihar Building on Plot No. 55 situated on Marine Drive Road to Mr. Mulchand Kodumal Bhatia from this day onward and that I have no claim whatsoever over this flat and Mr. Mulchand Kodumal Bhatia will pay the rent directly to the landlord.\n",
        "\" The argument raised on behalf of the appellant appears to us to be sound and has to be accepted.\n",
        "The learned Solic itor General urged that 'the word \"relinquishment\" was not a term of art and was used in the section not in any strict technical sense but in its comprehensive meaning as giving up of possession of the premises; and he pointed out that if it was intended by the legislature that \"relinquish ment\" should have the limited meaning sought to be placed upon it on behalf of the appellant, the word \"surrender\" used in the Transfer of Property Act would have been more appropriate.\n",
        "Sections 15 and 18 of the Act were referred to in this connection but in our opinion they lend no assist ance to the argument of the learned counsel.\n",
        "Any sublet ting, assignment or transfer in any other manner of his interest by the tenant is made unlawful under 423 section 15.\n",
        "Section 18 deals with the grant, renewal or continuance of a lease of any premises or the giving of his consent by the landlord to the transfer of a lease by sub lease or otherwise, and it provides that the landlord, who receives any fine, premium, or other like sum or deposit, or any consideration for the grant, renewal or continuance or the accord of consent oh would be guilty of an offence and liable to the punishment therein specified.\n",
        "It would thus be seen that an assignment of the lease or transfer in any other manner by a tenant is not made an offence; the statute merely says that it is not a lawful transaction.\n",
        "It is the landlord 's consent to the transfer of a lease by sub lease or otherwise on receipt of consideration that has been made an offence.\n",
        "Then follows section 19 which speaks of the relinquishment of his tenancy of any premises by a tenant.\n",
        "If, by the expression, an assignment such as we have in the present case was meant, appropriate words could have been used, such as the transfer by a tenant of his interest, which we find in section 108, sub clause (i), of the Trans fer of Property Act.\n",
        "The distinction between an assignment on the one hand and relinquishment or surrender on the other is too plain to be ignored.\n",
        "In the case of an assignment, the assignor contin ues to be liable to the landlord for the performance of his obligations under the tenancy and this liability is contrac tual, while the assignee becomes liable by reason of privity of estate.\n",
        "The consent of the landlord to an assignment is not necessary, in the absence of a contract or local usage to the contrary.\n",
        "But in the case of relinquishment, it cannot be a unilateral transaction; it can only be in favour of the lessor by mutual agreement between them.\n",
        "The relin quishment of possession must be to the lessor or one who holds his interest.\n",
        "In fact, a surrender or relinquishment terminates the lessee 's rights and lets in the lessor.\n",
        "It is no doubt true that the word \"relinquishment\" does not occur in the Transfer of Property Act but it is found in many of the Tenancy Acts in various provinces where there are Sec tions which deal with the 55 424 relinquishment of their holdings by tenants in favour of the landlord by notice given to him in writing.\n",
        "The section in question, it should be further noted, does not speak of relinquishment or giving up of possession,in general terms.\n",
        "The words are \"the relinquishment of his tenancy of any premises\".\n",
        "The relinquishment of a tenancy is equivalent to surrender by the lessee or tenant of his rights as such.\n",
        "Whether abandonment of a tenancy would come within the meaning of relinquishment is a question that does not arise in this appeal, because in the face of Exhibit D, there is no abandonment in the sense that the tenant disappeared from the scene altogether saying nothing and making no arrange ments about his interest and possession under the lease.\n",
        "As the statute creates an offence and imposes a penalty of fine and imprisonment, the words of the section must be strictly construed in favour of the subject.\n",
        "We are not concerned so much with what might possibly have been intend ed as with what has been actually said in and by the language employed.\n",
        "As in our view, there has been no \"relinquishment\" within the meaning of section 19, sub clause (1), the conviction under sub clause (2) cannot be sustained.\n",
        "It is set aside and the fine of Rs. 30,000 will be refunded if it has al ready been paid.\n",
        "The other parts of the order of the learned Presidency Magistrate, as regards the disposal of Rs. 1,000 paid by the complainant to the appellant and the sum of Rs. 29,500 brought in by the police, will, however, stand.\n",
        "Conviction sit aside.\n",
        "Agent for respondent No. 1: P.A. Mehta.\n",
        "Agent for respondent No. 2: Ganpat Rai.\n",
        "\n",
        "\"\"\"\n",
        "\n",
        "\n",
        "summary = \"\"\"\n",
        "\n",
        " Appeal from an Order of the High Court of Bombay (Bavdekar and Chainani JJ.) dated 20th February, 1950, in Criminal Appeal No. 106 of 1950. W.H. King was tenant of a flat on the second floor of a building called \"Ganga Vihar\", Marine Drive, Bombay, which belongs to a lady named Durgeshwari Devi.', ' The wife of the appellant denied any aiding and abetting. The wife was acquitted, the evidence being insufficient to prove any abetment. The appellant preferred an appeal to the High Court of Bombay but it was summarily dismissed. He asked for a certificate under article 134(1)(c) of the Constitution but this was rejected on 10 4 1950. He applied for special leave to appeal to this Court and it was granted on 3 10 1950.', ' The word \"relinquishment\" does not occur in the Transfer of Property Act but it is found in many of the Tenancy Acts in various provinces where there are Sec tions which deal with the relinquishment of their holdings by tenants in favour of the landlord by notice given to him in writing. The conviction under sub clause (2) cannot be sustained, the conviction is set aside and the fine of Rs. 30,000 will be refunded if it has been paid.']\n",
        "\n",
        "\n",
        "\"\"\""
      ],
      "metadata": {
        "id": "APxVBrdx4iep"
      },
      "execution_count": null,
      "outputs": []
    },
    {
      "cell_type": "code",
      "source": [
        "from blanc import BlancHelp, BlancTune\n",
        "blanc_help = BlancHelp()"
      ],
      "metadata": {
        "colab": {
          "base_uri": "https://localhost:8080/",
          "height": 353,
          "referenced_widgets": [
            "d342439bc2f44a8c8685d613344b9626",
            "3a07d0ef338644c4a1c0d0b967013e0f",
            "d2db0f8e761c42d185375e75a0a32fc9",
            "75ad6b9d219b4d3da980478e90f80f7a",
            "f25a4b14f9664837b4d7acf7084107f0",
            "ab1804e444cb44edaf7a7d710edb8dd4",
            "4130730b136040c9a52cb5efcece95ce",
            "047342234df94a15b0b88e2635959148",
            "341da75ee55b4307ba6377f57e9358b5",
            "5e11e35d5ce649ad9c990cd38a144208",
            "5307c5bd5dc34f80a39699b97d31b90b",
            "baa12554dc364d8293c9793cced1ebc0",
            "045ea6cbe4c447919db5f611b40a8d9d",
            "43d61f6d57664a74b881948369560b92",
            "5705bd16485045b7802b5eacb8defd55",
            "91d16e4c3e404291bdfbf14f43d6ded5",
            "3a2834a9e93241c58b936841f08ad78c",
            "089c494eed6b441c874c70aa69bb1898",
            "65f23cb313434737ba4a1e343f660e8a",
            "2eca529b7f1c493fb9d7819342a52133",
            "9b94119e70704ae8a47632ad2a78e585",
            "c70a6730383f4261bd1f0b4a4a0dd3b3",
            "23de9451ae65445987edd26d1b985c99",
            "52af2233a7c24a4ebf7e8032312e12b3",
            "c20316b97bc146abb8c0b7f8f2e1f372",
            "9a52a54ac4954deeafb9b733b2b74772",
            "ba99b7482fed4f7f8731e649fa73bb1b",
            "a0d198793f08420a822fd3b07ae0bcdd",
            "7b94f401230b4b5d949569856e1fa466",
            "8f607759ba264ea6b24ce1e2806f6424",
            "fa370d2bb4e446db9103d05f4590de49",
            "39a7e03536c643b4838f629a83889d68",
            "f579c1d557f847a698062e6e2e58974c",
            "03071160972e4fb3b5945a2e8caa96e7",
            "4ed9e09cb3c740a590ccd79e2c04c88d",
            "e86c2bbe26a74fdb88e625f4f1803e02",
            "c2b8bf127bb14264bdddbffaf480ba84",
            "d2f26e33cd3d4a09b320efa02911bc26",
            "357dc68028564a3d990e00743db2d499",
            "4e0e6baf27b94e0a908954481d83bd7c",
            "1c40e06d00d2483e9388ec11fddddab7",
            "bc0c93bc2c4644b7bcbe477ac4713d96",
            "bfbf647ce94c4100b1c26d41f77d1a5d",
            "b70b43c9456a444aaafed2a205ff8c06",
            "5e7f3e5fe7644bf2907b38f53e0a917b",
            "b0baa47e910648738b6ce96022e4d270",
            "82ec98116e694524afac4c42d327c453",
            "f8f5a9db93274d599bf4c6fd203c7e2b",
            "325381b5cedd4224a109ae8c3b2d17bc",
            "6a922c30065446cf92fb945e94fce479",
            "0432cc6078cc47caa58306438c74d6f1",
            "1292143480b84481bb7e6d00ad4b3002",
            "e24add3195cc4e4f9e4d818865fc5a94",
            "19827534f3cd4e56849e98ada7fbd659",
            "21a1e9318c294ce4a967d2121ae5d37e"
          ]
        },
        "id": "iFENLKT35vry",
        "outputId": "041265ec-14d9-41d9-e24c-580035c001e9"
      },
      "execution_count": null,
      "outputs": [
        {
          "output_type": "stream",
          "name": "stderr",
          "text": [
            "/usr/local/lib/python3.10/dist-packages/huggingface_hub/utils/_token.py:88: UserWarning: \n",
            "The secret `HF_TOKEN` does not exist in your Colab secrets.\n",
            "To authenticate with the Hugging Face Hub, create a token in your settings tab (https://huggingface.co/settings/tokens), set it as secret in your Google Colab and restart your session.\n",
            "You will be able to reuse this secret in all of your notebooks.\n",
            "Please note that authentication is recommended but still optional to access public models or datasets.\n",
            "  warnings.warn(\n"
          ]
        },
        {
          "output_type": "display_data",
          "data": {
            "text/plain": [
              "tokenizer_config.json:   0%|          | 0.00/48.0 [00:00<?, ?B/s]"
            ],
            "application/vnd.jupyter.widget-view+json": {
              "version_major": 2,
              "version_minor": 0,
              "model_id": "d342439bc2f44a8c8685d613344b9626"
            }
          },
          "metadata": {}
        },
        {
          "output_type": "display_data",
          "data": {
            "text/plain": [
              "vocab.txt:   0%|          | 0.00/232k [00:00<?, ?B/s]"
            ],
            "application/vnd.jupyter.widget-view+json": {
              "version_major": 2,
              "version_minor": 0,
              "model_id": "baa12554dc364d8293c9793cced1ebc0"
            }
          },
          "metadata": {}
        },
        {
          "output_type": "display_data",
          "data": {
            "text/plain": [
              "tokenizer.json:   0%|          | 0.00/466k [00:00<?, ?B/s]"
            ],
            "application/vnd.jupyter.widget-view+json": {
              "version_major": 2,
              "version_minor": 0,
              "model_id": "23de9451ae65445987edd26d1b985c99"
            }
          },
          "metadata": {}
        },
        {
          "output_type": "display_data",
          "data": {
            "text/plain": [
              "config.json:   0%|          | 0.00/570 [00:00<?, ?B/s]"
            ],
            "application/vnd.jupyter.widget-view+json": {
              "version_major": 2,
              "version_minor": 0,
              "model_id": "03071160972e4fb3b5945a2e8caa96e7"
            }
          },
          "metadata": {}
        },
        {
          "output_type": "display_data",
          "data": {
            "text/plain": [
              "model.safetensors:   0%|          | 0.00/440M [00:00<?, ?B/s]"
            ],
            "application/vnd.jupyter.widget-view+json": {
              "version_major": 2,
              "version_minor": 0,
              "model_id": "5e7f3e5fe7644bf2907b38f53e0a917b"
            }
          },
          "metadata": {}
        },
        {
          "output_type": "stream",
          "name": "stderr",
          "text": [
            "Some weights of the model checkpoint at bert-base-uncased were not used when initializing BertForMaskedLM: ['bert.pooler.dense.bias', 'bert.pooler.dense.weight', 'cls.seq_relationship.bias', 'cls.seq_relationship.weight']\n",
            "- This IS expected if you are initializing BertForMaskedLM from the checkpoint of a model trained on another task or with another architecture (e.g. initializing a BertForSequenceClassification model from a BertForPreTraining model).\n",
            "- This IS NOT expected if you are initializing BertForMaskedLM from the checkpoint of a model that you expect to be exactly identical (initializing a BertForSequenceClassification model from a BertForSequenceClassification model).\n"
          ]
        }
      ]
    },
    {
      "cell_type": "code",
      "source": [
        "blanc_tune = BlancTune(finetune_mask_evenly=False, show_progress_bar=True)"
      ],
      "metadata": {
        "colab": {
          "base_uri": "https://localhost:8080/"
        },
        "id": "MrJ4TQlE56fm",
        "outputId": "d75d24a9-a5f9-4b47-a3e7-e1e78691c3d0"
      },
      "execution_count": null,
      "outputs": [
        {
          "output_type": "stream",
          "name": "stderr",
          "text": [
            "Some weights of the model checkpoint at bert-base-uncased were not used when initializing BertForMaskedLM: ['bert.pooler.dense.bias', 'bert.pooler.dense.weight', 'cls.seq_relationship.bias', 'cls.seq_relationship.weight']\n",
            "- This IS expected if you are initializing BertForMaskedLM from the checkpoint of a model trained on another task or with another architecture (e.g. initializing a BertForSequenceClassification model from a BertForPreTraining model).\n",
            "- This IS NOT expected if you are initializing BertForMaskedLM from the checkpoint of a model that you expect to be exactly identical (initializing a BertForSequenceClassification model from a BertForSequenceClassification model).\n"
          ]
        }
      ]
    },
    {
      "cell_type": "code",
      "source": [
        "blanc_help.eval_once(document, summary)"
      ],
      "metadata": {
        "colab": {
          "base_uri": "https://localhost:8080/"
        },
        "id": "8XEC_2975-Fc",
        "outputId": "ae1a8a71-8096-4d89-beaa-1c3cfab0d829"
      },
      "execution_count": null,
      "outputs": [
        {
          "output_type": "stream",
          "name": "stderr",
          "text": [
            "100%|██████████| 336/336 [08:09<00:00,  1.46s/it]\n"
          ]
        },
        {
          "output_type": "execute_result",
          "data": {
            "text/plain": [
              "0.11402623612512613"
            ]
          },
          "metadata": {},
          "execution_count": 6
        }
      ]
    },
    {
      "cell_type": "code",
      "source": [
        "blanc_tune.eval_once(document, summary)"
      ],
      "metadata": {
        "colab": {
          "base_uri": "https://localhost:8080/"
        },
        "id": "1m3rmeSEKd7a",
        "outputId": "59398e45-9d43-437c-fadb-35ab5fbe6ef9"
      },
      "execution_count": null,
      "outputs": [
        {
          "output_type": "stream",
          "name": "stderr",
          "text": [
            "100%|██████████| 168/168 [00:36<00:00,  4.63it/s]\n",
            "Some weights of the model checkpoint at bert-base-uncased were not used when initializing BertForMaskedLM: ['bert.pooler.dense.bias', 'bert.pooler.dense.weight', 'cls.seq_relationship.bias', 'cls.seq_relationship.weight']\n",
            "- This IS expected if you are initializing BertForMaskedLM from the checkpoint of a model trained on another task or with another architecture (e.g. initializing a BertForSequenceClassification model from a BertForPreTraining model).\n",
            "- This IS NOT expected if you are initializing BertForMaskedLM from the checkpoint of a model that you expect to be exactly identical (initializing a BertForSequenceClassification model from a BertForSequenceClassification model).\n",
            "  0%|          | 0/1 [00:00<?, ?it/s]/usr/local/lib/python3.10/dist-packages/transformers/optimization.py:429: FutureWarning: This implementation of AdamW is deprecated and will be removed in a future version. Use the PyTorch implementation torch.optim.AdamW instead, or set `no_deprecation_warning=True` to disable this warning\n",
            "  warnings.warn(\n",
            "\n",
            "  0%|          | 0/168 [00:00<?, ?it/s]\u001b[A\n",
            "  1%|          | 1/168 [00:00<00:18,  8.95it/s]\u001b[A\n",
            "  1%|          | 2/168 [00:00<00:19,  8.63it/s]\u001b[A\n",
            "  2%|▏         | 3/168 [00:00<00:18,  9.13it/s]\u001b[A\n",
            "  2%|▏         | 4/168 [00:00<00:21,  7.52it/s]\u001b[A\n",
            "  3%|▎         | 5/168 [00:00<00:23,  6.84it/s]\u001b[A\n",
            "  4%|▎         | 6/168 [00:00<00:22,  7.07it/s]\u001b[A\n",
            "  4%|▍         | 7/168 [00:00<00:22,  7.05it/s]\u001b[A\n",
            "  5%|▍         | 8/168 [00:01<00:26,  6.01it/s]\u001b[A\n",
            "  5%|▌         | 9/168 [00:01<00:28,  5.61it/s]\u001b[A\n",
            "  6%|▌         | 10/168 [00:01<00:25,  6.21it/s]\u001b[A\n",
            "  7%|▋         | 11/168 [00:01<00:25,  6.16it/s]\u001b[A\n",
            "  7%|▋         | 12/168 [00:01<00:26,  6.00it/s]\u001b[A\n",
            "  8%|▊         | 13/168 [00:02<00:27,  5.63it/s]\u001b[A\n",
            "  8%|▊         | 14/168 [00:02<00:27,  5.56it/s]\u001b[A\n",
            "  9%|▉         | 15/168 [00:02<00:26,  5.75it/s]\u001b[A\n",
            " 10%|▉         | 16/168 [00:02<00:31,  4.81it/s]\u001b[A\n",
            " 10%|█         | 17/168 [00:02<00:34,  4.37it/s]\u001b[A\n",
            " 11%|█         | 18/168 [00:03<00:33,  4.45it/s]\u001b[A\n",
            " 11%|█▏        | 19/168 [00:03<00:32,  4.61it/s]\u001b[A\n",
            " 12%|█▏        | 20/168 [00:03<00:28,  5.21it/s]\u001b[A\n",
            " 12%|█▎        | 21/168 [00:03<00:26,  5.56it/s]\u001b[A\n",
            " 13%|█▎        | 22/168 [00:03<00:28,  5.11it/s]\u001b[A\n",
            " 14%|█▎        | 23/168 [00:04<00:30,  4.81it/s]\u001b[A\n",
            " 14%|█▍        | 24/168 [00:04<00:27,  5.23it/s]\u001b[A\n",
            " 15%|█▍        | 25/168 [00:04<00:25,  5.56it/s]\u001b[A\n",
            " 15%|█▌        | 26/168 [00:04<00:22,  6.18it/s]\u001b[A\n",
            " 16%|█▌        | 27/168 [00:04<00:28,  4.90it/s]\u001b[A\n",
            " 17%|█▋        | 28/168 [00:05<00:33,  4.20it/s]\u001b[A\n",
            " 17%|█▋        | 29/168 [00:05<00:28,  4.81it/s]\u001b[A\n",
            " 18%|█▊        | 30/168 [00:05<00:25,  5.36it/s]\u001b[A\n",
            " 18%|█▊        | 31/168 [00:05<00:33,  4.13it/s]\u001b[A\n",
            " 19%|█▉        | 32/168 [00:06<00:38,  3.52it/s]\u001b[A\n",
            " 20%|█▉        | 33/168 [00:06<00:32,  4.18it/s]\u001b[A\n",
            " 20%|██        | 34/168 [00:06<00:27,  4.80it/s]\u001b[A\n",
            " 21%|██        | 35/168 [00:06<00:25,  5.32it/s]\u001b[A\n",
            " 21%|██▏       | 36/168 [00:06<00:25,  5.28it/s]\u001b[A\n",
            " 22%|██▏       | 37/168 [00:06<00:24,  5.40it/s]\u001b[A\n",
            " 23%|██▎       | 38/168 [00:07<00:23,  5.56it/s]\u001b[A\n",
            " 23%|██▎       | 39/168 [00:07<00:22,  5.63it/s]\u001b[A\n",
            " 24%|██▍       | 40/168 [00:07<00:21,  5.98it/s]\u001b[A\n",
            " 24%|██▍       | 41/168 [00:07<00:20,  6.21it/s]\u001b[A\n",
            " 25%|██▌       | 42/168 [00:07<00:19,  6.31it/s]\u001b[A\n",
            " 26%|██▌       | 43/168 [00:07<00:19,  6.50it/s]\u001b[A\n",
            " 26%|██▌       | 44/168 [00:08<00:21,  5.86it/s]\u001b[A\n",
            " 27%|██▋       | 45/168 [00:08<00:22,  5.41it/s]\u001b[A\n",
            " 27%|██▋       | 46/168 [00:08<00:20,  5.84it/s]\u001b[A\n",
            " 28%|██▊       | 47/168 [00:08<00:19,  6.16it/s]\u001b[A\n",
            " 29%|██▊       | 48/168 [00:08<00:19,  6.00it/s]\u001b[A\n",
            " 29%|██▉       | 49/168 [00:08<00:20,  5.94it/s]\u001b[A\n",
            " 30%|██▉       | 50/168 [00:09<00:18,  6.32it/s]\u001b[A\n",
            " 30%|███       | 51/168 [00:09<00:17,  6.64it/s]\u001b[A\n",
            " 31%|███       | 52/168 [00:09<00:23,  4.98it/s]\u001b[A\n",
            " 32%|███▏      | 53/168 [00:09<00:26,  4.27it/s]\u001b[A\n",
            " 32%|███▏      | 54/168 [00:10<00:26,  4.31it/s]\u001b[A\n",
            " 33%|███▎      | 55/168 [00:10<00:26,  4.31it/s]\u001b[A\n",
            " 33%|███▎      | 56/168 [00:10<00:24,  4.53it/s]\u001b[A\n",
            " 34%|███▍      | 57/168 [00:10<00:23,  4.69it/s]\u001b[A\n",
            " 35%|███▍      | 58/168 [00:10<00:24,  4.41it/s]\u001b[A\n",
            " 35%|███▌      | 59/168 [00:11<00:25,  4.23it/s]\u001b[A\n",
            " 36%|███▌      | 60/168 [00:11<00:25,  4.24it/s]\u001b[A\n",
            " 36%|███▋      | 61/168 [00:11<00:24,  4.32it/s]\u001b[A\n",
            " 37%|███▋      | 62/168 [00:11<00:20,  5.08it/s]\u001b[A\n",
            " 38%|███▊      | 63/168 [00:12<00:25,  4.17it/s]\u001b[A\n",
            " 38%|███▊      | 64/168 [00:12<00:28,  3.69it/s]\u001b[A\n",
            " 39%|███▊      | 65/168 [00:12<00:23,  4.43it/s]\u001b[A\n",
            " 39%|███▉      | 66/168 [00:12<00:23,  4.42it/s]\u001b[A\n",
            " 40%|███▉      | 67/168 [00:13<00:23,  4.38it/s]\u001b[A\n",
            " 40%|████      | 68/168 [00:13<00:23,  4.35it/s]\u001b[A\n",
            " 41%|████      | 69/168 [00:13<00:23,  4.27it/s]\u001b[A\n",
            " 42%|████▏     | 70/168 [00:13<00:21,  4.47it/s]\u001b[A\n",
            " 42%|████▏     | 71/168 [00:13<00:21,  4.60it/s]\u001b[A\n",
            " 43%|████▎     | 72/168 [00:14<00:26,  3.68it/s]\u001b[A\n",
            " 43%|████▎     | 73/168 [00:14<00:31,  3.01it/s]\u001b[A\n",
            " 44%|████▍     | 74/168 [00:15<00:31,  2.96it/s]\u001b[A\n",
            " 45%|████▍     | 75/168 [00:15<00:31,  2.94it/s]\u001b[A\n",
            " 45%|████▌     | 76/168 [00:15<00:31,  2.92it/s]\u001b[A\n",
            " 46%|████▌     | 77/168 [00:16<00:31,  2.90it/s]\u001b[A\n",
            " 46%|████▋     | 78/168 [00:16<00:27,  3.32it/s]\u001b[A\n",
            " 47%|████▋     | 79/168 [00:16<00:24,  3.65it/s]\u001b[A\n",
            " 48%|████▊     | 80/168 [00:16<00:22,  3.86it/s]\u001b[A\n",
            " 48%|████▊     | 81/168 [00:17<00:21,  4.02it/s]\u001b[A\n",
            " 49%|████▉     | 82/168 [00:17<00:21,  3.94it/s]\u001b[A\n",
            " 49%|████▉     | 83/168 [00:17<00:22,  3.79it/s]\u001b[A\n",
            " 50%|█████     | 84/168 [00:17<00:19,  4.37it/s]\u001b[A\n",
            " 51%|█████     | 85/168 [00:17<00:16,  4.90it/s]\u001b[A\n",
            " 51%|█████     | 86/168 [00:18<00:16,  5.03it/s]\u001b[A\n",
            " 52%|█████▏    | 87/168 [00:18<00:15,  5.17it/s]\u001b[A\n",
            " 52%|█████▏    | 88/168 [00:18<00:15,  5.27it/s]\u001b[A\n",
            " 53%|█████▎    | 89/168 [00:18<00:15,  5.24it/s]\u001b[A\n",
            " 54%|█████▎    | 90/168 [00:18<00:14,  5.41it/s]\u001b[A\n",
            " 54%|█████▍    | 91/168 [00:18<00:13,  5.57it/s]\u001b[A\n",
            " 55%|█████▍    | 92/168 [00:19<00:14,  5.11it/s]\u001b[A\n",
            " 55%|█████▌    | 93/168 [00:19<00:15,  4.94it/s]\u001b[A\n",
            " 56%|█████▌    | 94/168 [00:20<00:24,  3.03it/s]\u001b[A\n",
            " 57%|█████▋    | 95/168 [00:20<00:30,  2.40it/s]\u001b[A\n",
            " 57%|█████▋    | 96/168 [00:20<00:26,  2.70it/s]\u001b[A\n",
            " 58%|█████▊    | 97/168 [00:21<00:24,  2.95it/s]\u001b[A\n",
            " 58%|█████▊    | 98/168 [00:21<00:21,  3.19it/s]\u001b[A\n",
            " 59%|█████▉    | 99/168 [00:21<00:20,  3.33it/s]\u001b[A\n",
            " 60%|█████▉    | 100/168 [00:21<00:16,  4.02it/s]\u001b[A\n",
            " 60%|██████    | 101/168 [00:21<00:14,  4.65it/s]\u001b[A\n",
            " 61%|██████    | 102/168 [00:22<00:12,  5.19it/s]\u001b[A\n",
            " 61%|██████▏   | 103/168 [00:22<00:11,  5.81it/s]\u001b[A\n",
            " 62%|██████▏   | 104/168 [00:22<00:10,  6.33it/s]\u001b[A\n",
            " 62%|██████▎   | 105/168 [00:22<00:09,  6.58it/s]\u001b[A\n",
            " 63%|██████▎   | 106/168 [00:22<00:09,  6.75it/s]\u001b[A\n",
            " 64%|██████▎   | 107/168 [00:22<00:11,  5.18it/s]\u001b[A\n",
            " 64%|██████▍   | 108/168 [00:23<00:13,  4.51it/s]\u001b[A\n",
            " 65%|██████▍   | 109/168 [00:23<00:12,  4.88it/s]\u001b[A\n",
            " 65%|██████▌   | 110/168 [00:23<00:11,  5.20it/s]\u001b[A\n",
            " 66%|██████▌   | 111/168 [00:24<00:16,  3.56it/s]\u001b[A\n",
            " 67%|██████▋   | 112/168 [00:24<00:19,  2.94it/s]\u001b[A\n",
            " 67%|██████▋   | 113/168 [00:24<00:16,  3.29it/s]\u001b[A\n",
            " 68%|██████▊   | 114/168 [00:24<00:14,  3.64it/s]\u001b[A\n",
            " 68%|██████▊   | 115/168 [00:25<00:13,  4.02it/s]\u001b[A\n",
            " 69%|██████▉   | 116/168 [00:25<00:12,  4.30it/s]\u001b[A\n",
            " 70%|██████▉   | 117/168 [00:25<00:14,  3.40it/s]\u001b[A\n",
            " 70%|███████   | 118/168 [00:26<00:16,  2.99it/s]\u001b[A\n",
            " 71%|███████   | 119/168 [00:26<00:14,  3.32it/s]\u001b[A\n",
            " 71%|███████▏  | 120/168 [00:26<00:14,  3.43it/s]\u001b[A\n",
            " 72%|███████▏  | 121/168 [00:27<00:13,  3.36it/s]\u001b[A\n",
            " 73%|███████▎  | 122/168 [00:27<00:13,  3.37it/s]\u001b[A\n",
            " 73%|███████▎  | 123/168 [00:27<00:12,  3.49it/s]\u001b[A\n",
            " 74%|███████▍  | 124/168 [00:27<00:12,  3.56it/s]\u001b[A\n",
            " 74%|███████▍  | 125/168 [00:28<00:14,  2.98it/s]\u001b[A\n",
            " 75%|███████▌  | 126/168 [00:28<00:15,  2.68it/s]\u001b[A\n",
            " 76%|███████▌  | 127/168 [00:29<00:14,  2.83it/s]\u001b[A\n",
            " 76%|███████▌  | 128/168 [00:29<00:12,  3.30it/s]\u001b[A\n",
            " 77%|███████▋  | 129/168 [00:29<00:11,  3.39it/s]\u001b[A\n",
            " 77%|███████▋  | 130/168 [00:29<00:11,  3.45it/s]\u001b[A\n",
            " 78%|███████▊  | 131/168 [00:30<00:09,  3.83it/s]\u001b[A\n",
            " 79%|███████▊  | 132/168 [00:30<00:08,  4.23it/s]\u001b[A\n",
            " 79%|███████▉  | 133/168 [00:30<00:08,  4.32it/s]\u001b[A\n",
            " 80%|███████▉  | 134/168 [00:30<00:07,  4.40it/s]\u001b[A\n",
            " 80%|████████  | 135/168 [00:30<00:06,  4.80it/s]\u001b[A\n",
            " 81%|████████  | 136/168 [00:30<00:06,  5.10it/s]\u001b[A\n",
            " 82%|████████▏ | 137/168 [00:31<00:06,  5.15it/s]\u001b[A\n",
            " 82%|████████▏ | 138/168 [00:31<00:05,  5.29it/s]\u001b[A\n",
            " 83%|████████▎ | 139/168 [00:31<00:06,  4.19it/s]\u001b[A\n",
            " 83%|████████▎ | 140/168 [00:32<00:07,  3.63it/s]\u001b[A\n",
            " 84%|████████▍ | 141/168 [00:32<00:06,  3.94it/s]\u001b[A\n",
            " 85%|████████▍ | 142/168 [00:32<00:06,  4.24it/s]\u001b[A\n",
            " 85%|████████▌ | 143/168 [00:32<00:05,  4.75it/s]\u001b[A\n",
            " 86%|████████▌ | 144/168 [00:32<00:04,  5.17it/s]\u001b[A\n",
            " 86%|████████▋ | 145/168 [00:32<00:04,  5.24it/s]\u001b[A\n",
            " 87%|████████▋ | 146/168 [00:33<00:04,  5.19it/s]\u001b[A\n",
            " 88%|████████▊ | 147/168 [00:33<00:04,  4.25it/s]\u001b[A\n",
            " 88%|████████▊ | 148/168 [00:33<00:05,  3.77it/s]\u001b[A\n",
            " 89%|████████▊ | 149/168 [00:34<00:04,  4.01it/s]\u001b[A\n",
            " 89%|████████▉ | 150/168 [00:34<00:04,  4.20it/s]\u001b[A\n",
            " 90%|████████▉ | 151/168 [00:34<00:03,  4.50it/s]\u001b[A\n",
            " 90%|█████████ | 152/168 [00:34<00:03,  4.74it/s]\u001b[A\n",
            " 91%|█████████ | 153/168 [00:34<00:03,  4.56it/s]\u001b[A\n",
            " 92%|█████████▏| 154/168 [00:35<00:03,  4.46it/s]\u001b[A\n",
            " 92%|█████████▏| 155/168 [00:35<00:02,  5.09it/s]\u001b[A\n",
            " 93%|█████████▎| 156/168 [00:35<00:02,  5.78it/s]\u001b[A\n",
            " 93%|█████████▎| 157/168 [00:35<00:01,  6.07it/s]\u001b[A\n",
            " 94%|█████████▍| 158/168 [00:35<00:01,  6.30it/s]\u001b[A\n",
            " 95%|█████████▍| 159/168 [00:35<00:01,  6.37it/s]\u001b[A\n",
            " 95%|█████████▌| 160/168 [00:35<00:01,  6.36it/s]\u001b[A\n",
            " 96%|█████████▌| 161/168 [00:36<00:01,  6.34it/s]\u001b[A\n",
            " 96%|█████████▋| 162/168 [00:36<00:00,  6.22it/s]\u001b[A\n",
            " 97%|█████████▋| 163/168 [00:36<00:00,  6.49it/s]\u001b[A\n",
            " 98%|█████████▊| 164/168 [00:36<00:00,  7.19it/s]\u001b[A\n",
            " 98%|█████████▊| 165/168 [00:36<00:00,  7.60it/s]\u001b[A\n",
            " 99%|█████████▉| 166/168 [00:36<00:00,  8.18it/s]\u001b[A\n",
            " 99%|█████████▉| 167/168 [00:36<00:00,  8.27it/s]\u001b[A\n",
            "100%|██████████| 168/168 [00:36<00:00,  4.55it/s]\n",
            "100%|██████████| 1/1 [10:07<00:00, 607.65s/it]\n"
          ]
        },
        {
          "output_type": "execute_result",
          "data": {
            "text/plain": [
              "0.06458123107971746"
            ]
          },
          "metadata": {},
          "execution_count": 7
        }
      ]
    },
    {
      "cell_type": "markdown",
      "source": [
        "# ROUGE Evaluation"
      ],
      "metadata": {
        "id": "G9wdckRt4erm"
      }
    },
    {
      "cell_type": "code",
      "source": [
        "pip install rouge"
      ],
      "metadata": {
        "colab": {
          "base_uri": "https://localhost:8080/"
        },
        "id": "qsGw8X3lQF5X",
        "outputId": "ae44f358-b2ba-4c5f-c471-14410e8a6705"
      },
      "execution_count": null,
      "outputs": [
        {
          "output_type": "stream",
          "name": "stdout",
          "text": [
            "Collecting rouge\n",
            "  Downloading rouge-1.0.1-py3-none-any.whl (13 kB)\n",
            "Requirement already satisfied: six in /usr/local/lib/python3.10/dist-packages (from rouge) (1.16.0)\n",
            "Installing collected packages: rouge\n",
            "Successfully installed rouge-1.0.1\n"
          ]
        }
      ]
    },
    {
      "cell_type": "code",
      "source": [
        "pip install rouge_score"
      ],
      "metadata": {
        "colab": {
          "base_uri": "https://localhost:8080/"
        },
        "id": "1DLFNQkGPcC5",
        "outputId": "bd968db2-251f-41db-dc7c-3496719b9d57"
      },
      "execution_count": null,
      "outputs": [
        {
          "output_type": "stream",
          "name": "stdout",
          "text": [
            "Collecting rouge_score\n",
            "  Downloading rouge_score-0.1.2.tar.gz (17 kB)\n",
            "  Preparing metadata (setup.py) ... \u001b[?25l\u001b[?25hdone\n",
            "Requirement already satisfied: absl-py in /usr/local/lib/python3.10/dist-packages (from rouge_score) (1.4.0)\n",
            "Requirement already satisfied: nltk in /usr/local/lib/python3.10/dist-packages (from rouge_score) (3.8.1)\n",
            "Requirement already satisfied: numpy in /usr/local/lib/python3.10/dist-packages (from rouge_score) (1.25.2)\n",
            "Requirement already satisfied: six>=1.14.0 in /usr/local/lib/python3.10/dist-packages (from rouge_score) (1.16.0)\n",
            "Requirement already satisfied: click in /usr/local/lib/python3.10/dist-packages (from nltk->rouge_score) (8.1.7)\n",
            "Requirement already satisfied: joblib in /usr/local/lib/python3.10/dist-packages (from nltk->rouge_score) (1.3.2)\n",
            "Requirement already satisfied: regex>=2021.8.3 in /usr/local/lib/python3.10/dist-packages (from nltk->rouge_score) (2023.12.25)\n",
            "Requirement already satisfied: tqdm in /usr/local/lib/python3.10/dist-packages (from nltk->rouge_score) (4.66.2)\n",
            "Building wheels for collected packages: rouge_score\n",
            "  Building wheel for rouge_score (setup.py) ... \u001b[?25l\u001b[?25hdone\n",
            "  Created wheel for rouge_score: filename=rouge_score-0.1.2-py3-none-any.whl size=24933 sha256=03b90a86ea8782438c46f07f88b3224959401a2a94a114b4eb3cf5d8453cbfda\n",
            "  Stored in directory: /root/.cache/pip/wheels/5f/dd/89/461065a73be61a532ff8599a28e9beef17985c9e9c31e541b4\n",
            "Successfully built rouge_score\n",
            "Installing collected packages: rouge_score\n",
            "Successfully installed rouge_score-0.1.2\n"
          ]
        }
      ]
    },
    {
      "cell_type": "code",
      "source": [
        "generated_summary=\"\"\"\n",
        "\n",
        "## Summary of Civil Misc. Petition No. 15001 of 1989\n",
        "\n",
        "This case involved a property dispute between Subbamma, her adopted son Seshiah, and his two sons, Sudarshan Gupta and Anand Babu.\n",
        "\n",
        "**Background:**\n",
        "\n",
        "* Subbamma had two wills, each leaving the property to a different son.\n",
        "* Seshiah claimed the property as Subbamma's heir.\n",
        "\n",
        "**Compromise Attempt:**\n",
        "\n",
        "* During the legal proceedings, a compromise was proposed.\n",
        "* Seshiah agreed to pay each son Rs. 1 lakh in exchange for relinquishing their claims.\n",
        "* The compromise document was signed by all parties.\n",
        "\n",
        "**Dispute over Compromise:**\n",
        "\n",
        "* Sudarshan Gupta (second son) later denied receiving the Rs. 1 lakh and refused the compromise.\n",
        "* He also sold parts of the property to third parties (alienees).\n",
        "\n",
        "**Court's Decision:**\n",
        "\n",
        "* The Court considered the compromise document valid despite Sudarshan Gupta's objection.\n",
        "* The Court found the property sales to be invalid as they occurred after the compromise.\n",
        "* The alienees (who bought the property) were ordered to:\n",
        "    * Deposit the sale consideration they paid (Rs. 77,124) in court.\n",
        "    * Vacate the property by April 30th, 1991.\n",
        "\n",
        "**Additional Orders:**\n",
        "\n",
        "* Seshiah was ordered to pay Sudarshan Gupta an additional Rs. 1 lakh.\n",
        "* The alienees were relieved of any obligation to pay rent for occupying the property.\n",
        "\n",
        "**Outcome:**\n",
        "\n",
        "* The compromise was upheld.\n",
        "* Seshiah regained ownership of the property.\n",
        "* Sudarshan Gupta received a total of Rs. 2 lakh.\n",
        "* The alienees lost their claims on the property and any money they paid towards the purchase.\n",
        "\n",
        "\"\"\"\n",
        "\n",
        "reference_summary=\"\"\"\n",
        "Respondent No. 1 adopted petitioner appellant, who married two wives and through the first wife he had a son, the respondent No. 2 and through the second, another son, the respondent No. 3.\n",
        "During the pendency of the special leave petition the adoptive mother of appellant died.\n",
        "Respondent 2 and 3 laid claim to the entire property of respondent No. 1 exclusively under two different wills said to be by the respondent No. 1 and each contended that the other will was a forged one.\n",
        "On the death of the adoptive mother, the appellant laid claim to her entire property as heir.\n",
        "While each of the parties had taken such stand, in the litigation a compromise was brought about on 21.8.1987 between the appellant and his two sons, the respondents 2 and 3 and the same was filed in this Court and in terms of the compromise the appellant, to make payment of Rs. 1 lakh to each of his two sons in lieu of relinquishment of their interest.\n",
        "When the matter was listed for recording the compromise, the respondent No. 2 contended that as he had not been paid Rs. 1 lakh as stipulated in the compromise, in the meanwhile he had alienated about 81 acres of the suit properties to the third parties.\n",
        "The alienees had been also impleaded as parties under the orders of this Court.\n",
        "Disposing of the petition, this Court, HELD: 1.\n",
        "Once the Court was satisfied that there was a compromise it was for the Court to record the same and no option lay before the Court to act otherwise.\n",
        "[542A B] 539 2.\n",
        "As the compromise petition in the instant case is genuine nd lawful the same has to be acted upon.\n",
        "[542B] 3.\n",
        "It is directed that the compromise petition shall be accepted and in terms thereof the suit shall be disposed of and the terms of the compromise shall form part of the order to be drawn up in this Court for disposing of the special leave petition.\n",
        "[542B C] 4.\n",
        "With a view to settling all equities between the parties, directed that the appellant to pay a sum of Rs.1 lakh more to respondent No. 2 within eight weeks.\n",
        "Rs. 77,124 being the amount paid by the alienees before the Sub Registrar in respect of the sale deeds shall be deposited.\n",
        "[542C E] 5.\n",
        "The alienees have no right created under the alleged sale deeds.\n",
        "Their possession is without authority of law and clarified that none of the sale deeds is valid.\n",
        "[542F H] 6.\n",
        "The alienees shall deliver vacant possession of the property by 30th of April, 1991, and in the event of failure to do so the Trial Court directed to deliver vacant possession.\n",
        "[543A B] Bhoja Govinda Maikap & Anr.\n",
        "vs Janaki Dei & Ors., , approved.\n",
        "\n",
        "\"\"\""
      ],
      "metadata": {
        "id": "87BQ9EjoPngU"
      },
      "execution_count": null,
      "outputs": []
    },
    {
      "cell_type": "code",
      "source": [
        "from rouge import Rouge\n",
        "def calculate_rouge_scores(generated_summary, reference_summary):\n",
        "    rouge = Rouge()\n",
        "    scores = rouge.get_scores(generated_summary, reference_summary)\n",
        "    return scores\n",
        "\n",
        "# Define function to calculate accuracy\n",
        "def calculate_accuracy(generated_summary, reference_summary):\n",
        "    # Tokenize the summaries\n",
        "    generated_tokens = nltk.word_tokenize(generated_summary.lower())\n",
        "    reference_tokens = nltk.word_tokenize(reference_summary.lower())\n",
        "\n",
        "    # Calculate accuracy based on matching tokens\n",
        "    matching_tokens = set(generated_tokens) & set(reference_tokens)\n",
        "    accuracy = len(matching_tokens) / len(reference_tokens)\n",
        "    return accuracy"
      ],
      "metadata": {
        "id": "9Loz1kaJPAkr"
      },
      "execution_count": null,
      "outputs": []
    },
    {
      "cell_type": "code",
      "source": [
        "# Calculate ROUGE scores\n",
        "rouge_scores = calculate_rouge_scores(generated_summary, reference_summary)\n",
        "print(\"ROUGE scores:\", rouge_scores)\n",
        "\n",
        "# Calculate accuracy\n",
        "accuracy = calculate_accuracy(generated_summary, reference_summary)\n",
        "print(\"Accuracy:\", accuracy)"
      ],
      "metadata": {
        "colab": {
          "base_uri": "https://localhost:8080/"
        },
        "id": "O7IfPQWMQDMz",
        "outputId": "eba8f6cf-f5a3-4745-d843-c72956e97527"
      },
      "execution_count": null,
      "outputs": [
        {
          "output_type": "stream",
          "name": "stdout",
          "text": [
            "ROUGE scores: [{'rouge-1': {'r': 0.2, 'p': 0.31654676258992803, 'f': 0.24512534344395226}, 'rouge-2': {'r': 0.049738219895287955, 'p': 0.09090909090909091, 'f': 0.06429779576684708}, 'rouge-l': {'r': 0.18636363636363637, 'p': 0.2949640287769784, 'f': 0.22841225152194672}}]\n",
            "Accuracy: 0.10857142857142857\n"
          ]
        }
      ]
    },
    {
      "cell_type": "markdown",
      "source": [
        "# Saving the DistillBART summary output in the File"
      ],
      "metadata": {
        "id": "YLtYq_ohEhw3"
      }
    },
    {
      "cell_type": "code",
      "source": [
        "pip install openpyxl"
      ],
      "metadata": {
        "colab": {
          "base_uri": "https://localhost:8080/"
        },
        "id": "McLOaWtJIxUg",
        "outputId": "95f5af0a-0e1a-4794-b913-100a4c0e2719"
      },
      "execution_count": null,
      "outputs": [
        {
          "output_type": "stream",
          "name": "stdout",
          "text": [
            "Requirement already satisfied: openpyxl in /usr/local/lib/python3.10/dist-packages (3.1.2)\n",
            "Requirement already satisfied: et-xmlfile in /usr/local/lib/python3.10/dist-packages (from openpyxl) (1.1.0)\n"
          ]
        }
      ]
    },
    {
      "cell_type": "code",
      "source": [
        "import os\n",
        "import openpyxl  # For writing to Excel\n",
        "from transformers import AutoTokenizer, AutoModelForSeq2SeqLM\n",
        "import nltk\n",
        "\n",
        "# Define directory path\n",
        "judgment_dir = \"/content/drive/MyDrive/to be delete/judgment\"  # Modify as needed\n",
        "\n",
        "# Pre-trained model checkpoint (replace with your desired model)\n",
        "checkpoint = \"sshleifer/distilbart-cnn-12-6\"\n",
        "\n",
        "\n",
        "def summarize_text(file_content):\n",
        "  \"\"\"\n",
        "  This function takes the text content of a file and returns a list of summaries for chunks.\n",
        "  \"\"\"\n",
        "  tokenizer = AutoTokenizer.from_pretrained(checkpoint)\n",
        "  model = AutoModelForSeq2SeqLM.from_pretrained(checkpoint)\n",
        "\n",
        "  nltk.download('punkt')\n",
        "  sentences = nltk.tokenize.sent_tokenize(file_content)\n",
        "\n",
        "  length = 0\n",
        "  chunk = \"\"\n",
        "  chunks = []\n",
        "  count = -1\n",
        "  for sentence in sentences:\n",
        "    count += 1\n",
        "    combined_length = len(tokenizer.tokenize(sentence)) + length\n",
        "    if combined_length <= tokenizer.max_len_single_sentence:\n",
        "      chunk += sentence + \" \"\n",
        "      length = combined_length\n",
        "    else:\n",
        "      chunks.append(chunk.strip())\n",
        "      length = 0\n",
        "      chunk = sentence + \" \"\n",
        "    if count == len(sentences) - 1:\n",
        "      chunks.append(chunk.strip())\n",
        "\n",
        "  chunk_list = chunks\n",
        "\n",
        "  inputs = [tokenizer(chunk, return_tensors=\"pt\") for chunk in chunks]\n",
        "  summary_list = []\n",
        "  for input in inputs:\n",
        "    output = model.generate(**input)\n",
        "    summary_list.append(tokenizer.decode(*output, skip_special_tokens=True))\n",
        "\n",
        "  return summary_list\n",
        "\n",
        "\n",
        "def main():\n",
        "  # Initialize Excel workbook and sheet\n",
        "  wb = openpyxl.Workbook()\n",
        "  sheet = wb.active\n",
        "  sheet.cell(row=1, column=1).value = \"Filename\"\n",
        "  sheet.cell(row=1, column=2).value = \"Summary\"\n",
        "\n",
        "  # Iterate through files in the directory\n",
        "  for filename in os.listdir(judgment_dir):\n",
        "    if filename.endswith(\".txt\"):  # Filter for text files\n",
        "      filepath = os.path.join(judgment_dir, filename)\n",
        "      try:\n",
        "        # Read file, summarize, and save summary\n",
        "        with open(filepath, \"r\") as file:\n",
        "          file_content = file.read().strip()\n",
        "        summary_list = summarize_text(file_content)\n",
        "\n",
        "        # Write filename and summary to Excel\n",
        "        row = sheet.max_row + 1\n",
        "        sheet.cell(row=row, column=1).value = filename\n",
        "        for i, summary in enumerate(summary_list):\n",
        "          sheet.cell(row=row + i, column=2).value = summary\n",
        "\n",
        "      except Exception as e:  # Handle potential errors\n",
        "        print(f\"Error processing file {filename}: {e}\")\n",
        "\n",
        "  # Save the Excel workbook\n",
        "  wb.save(\"judgment_summaries.xlsx\")  # Modify filename as needed\n",
        "  print(\"Summaries saved to judgment_summaries.xlsx\")\n",
        "\n",
        "\n",
        "if __name__ == \"__main__\":\n",
        "  main()\n"
      ],
      "metadata": {
        "colab": {
          "base_uri": "https://localhost:8080/"
        },
        "id": "ZlkQ6GMYEoqK",
        "outputId": "05cc3713-29ed-4c35-e664-ce488588378d"
      },
      "execution_count": null,
      "outputs": [
        {
          "output_type": "stream",
          "name": "stderr",
          "text": [
            "[nltk_data] Downloading package punkt to /root/nltk_data...\n",
            "[nltk_data]   Unzipping tokenizers/punkt.zip.\n",
            "[nltk_data] Downloading package punkt to /root/nltk_data...\n",
            "[nltk_data]   Package punkt is already up-to-date!\n",
            "[nltk_data] Downloading package punkt to /root/nltk_data...\n",
            "[nltk_data]   Package punkt is already up-to-date!\n",
            "[nltk_data] Downloading package punkt to /root/nltk_data...\n",
            "[nltk_data]   Package punkt is already up-to-date!\n",
            "[nltk_data] Downloading package punkt to /root/nltk_data...\n",
            "[nltk_data]   Package punkt is already up-to-date!\n",
            "[nltk_data] Downloading package punkt to /root/nltk_data...\n",
            "[nltk_data]   Package punkt is already up-to-date!\n",
            "[nltk_data] Downloading package punkt to /root/nltk_data...\n",
            "[nltk_data]   Package punkt is already up-to-date!\n",
            "[nltk_data] Downloading package punkt to /root/nltk_data...\n",
            "[nltk_data]   Package punkt is already up-to-date!\n",
            "[nltk_data] Downloading package punkt to /root/nltk_data...\n",
            "[nltk_data]   Package punkt is already up-to-date!\n",
            "[nltk_data] Downloading package punkt to /root/nltk_data...\n",
            "[nltk_data]   Package punkt is already up-to-date!\n"
          ]
        },
        {
          "output_type": "stream",
          "name": "stdout",
          "text": [
            "Summaries saved to judgment_summaries.xlsx\n"
          ]
        }
      ]
    }
  ]
}